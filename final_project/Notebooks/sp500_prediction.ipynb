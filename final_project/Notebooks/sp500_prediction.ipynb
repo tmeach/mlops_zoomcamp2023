{
 "cells": [
  {
   "cell_type": "code",
   "execution_count": 4,
   "id": "a998a627",
   "metadata": {},
   "outputs": [],
   "source": [
    "import pandas as pd\n",
    "import yfinance as yf\n",
    "import pickle\n",
    "\n",
    "import matplotlib.pyplot as plt\n",
    "%matplotlib inline\n"
   ]
  },
  {
   "cell_type": "code",
   "execution_count": 55,
   "id": "31d09e8e",
   "metadata": {},
   "outputs": [
    {
     "data": {
      "text/plain": [
       "<Experiment: artifact_location='/home/timur/work_hub/mlops_zoomcamp2023/Final_project/mlruns/1', creation_time=1690827882330, experiment_id='1', last_update_time=1690827882330, lifecycle_stage='active', name='first_exp', tags={}>"
      ]
     },
     "execution_count": 55,
     "metadata": {},
     "output_type": "execute_result"
    }
   ],
   "source": [
    "import mlflow \n",
    "\n",
    "mlflow.set_tracking_uri('sqlite:///mlflow.db')\n",
    "mlflow.set_experiment('first_exp')\n",
    "mlflow.autolog()\n"
   ]
  },
  {
   "cell_type": "markdown",
   "id": "6d9afdc9",
   "metadata": {},
   "source": [
    "#### Loading S&P 500 data"
   ]
  },
  {
   "cell_type": "code",
   "execution_count": 2,
   "id": "cc03eefc",
   "metadata": {},
   "outputs": [],
   "source": [
    "sp500 = yf.Ticker('^GSPC')"
   ]
  },
  {
   "cell_type": "code",
   "execution_count": 3,
   "id": "c55c5504",
   "metadata": {},
   "outputs": [],
   "source": [
    "sp500 = sp500.history(period = 'max')"
   ]
  },
  {
   "cell_type": "code",
   "execution_count": 4,
   "id": "f809d581",
   "metadata": {},
   "outputs": [
    {
     "data": {
      "text/html": [
       "<div>\n",
       "<style scoped>\n",
       "    .dataframe tbody tr th:only-of-type {\n",
       "        vertical-align: middle;\n",
       "    }\n",
       "\n",
       "    .dataframe tbody tr th {\n",
       "        vertical-align: top;\n",
       "    }\n",
       "\n",
       "    .dataframe thead th {\n",
       "        text-align: right;\n",
       "    }\n",
       "</style>\n",
       "<table border=\"1\" class=\"dataframe\">\n",
       "  <thead>\n",
       "    <tr style=\"text-align: right;\">\n",
       "      <th></th>\n",
       "      <th>Open</th>\n",
       "      <th>High</th>\n",
       "      <th>Low</th>\n",
       "      <th>Close</th>\n",
       "      <th>Volume</th>\n",
       "      <th>Dividends</th>\n",
       "      <th>Stock Splits</th>\n",
       "    </tr>\n",
       "    <tr>\n",
       "      <th>Date</th>\n",
       "      <th></th>\n",
       "      <th></th>\n",
       "      <th></th>\n",
       "      <th></th>\n",
       "      <th></th>\n",
       "      <th></th>\n",
       "      <th></th>\n",
       "    </tr>\n",
       "  </thead>\n",
       "  <tbody>\n",
       "    <tr>\n",
       "      <th>1927-12-30 00:00:00-05:00</th>\n",
       "      <td>17.660000</td>\n",
       "      <td>17.660000</td>\n",
       "      <td>17.660000</td>\n",
       "      <td>17.660000</td>\n",
       "      <td>0</td>\n",
       "      <td>0.0</td>\n",
       "      <td>0.0</td>\n",
       "    </tr>\n",
       "    <tr>\n",
       "      <th>1928-01-03 00:00:00-05:00</th>\n",
       "      <td>17.760000</td>\n",
       "      <td>17.760000</td>\n",
       "      <td>17.760000</td>\n",
       "      <td>17.760000</td>\n",
       "      <td>0</td>\n",
       "      <td>0.0</td>\n",
       "      <td>0.0</td>\n",
       "    </tr>\n",
       "    <tr>\n",
       "      <th>1928-01-04 00:00:00-05:00</th>\n",
       "      <td>17.719999</td>\n",
       "      <td>17.719999</td>\n",
       "      <td>17.719999</td>\n",
       "      <td>17.719999</td>\n",
       "      <td>0</td>\n",
       "      <td>0.0</td>\n",
       "      <td>0.0</td>\n",
       "    </tr>\n",
       "    <tr>\n",
       "      <th>1928-01-05 00:00:00-05:00</th>\n",
       "      <td>17.549999</td>\n",
       "      <td>17.549999</td>\n",
       "      <td>17.549999</td>\n",
       "      <td>17.549999</td>\n",
       "      <td>0</td>\n",
       "      <td>0.0</td>\n",
       "      <td>0.0</td>\n",
       "    </tr>\n",
       "    <tr>\n",
       "      <th>1928-01-06 00:00:00-05:00</th>\n",
       "      <td>17.660000</td>\n",
       "      <td>17.660000</td>\n",
       "      <td>17.660000</td>\n",
       "      <td>17.660000</td>\n",
       "      <td>0</td>\n",
       "      <td>0.0</td>\n",
       "      <td>0.0</td>\n",
       "    </tr>\n",
       "  </tbody>\n",
       "</table>\n",
       "</div>"
      ],
      "text/plain": [
       "                                Open       High        Low      Close  Volume  \\\n",
       "Date                                                                            \n",
       "1927-12-30 00:00:00-05:00  17.660000  17.660000  17.660000  17.660000       0   \n",
       "1928-01-03 00:00:00-05:00  17.760000  17.760000  17.760000  17.760000       0   \n",
       "1928-01-04 00:00:00-05:00  17.719999  17.719999  17.719999  17.719999       0   \n",
       "1928-01-05 00:00:00-05:00  17.549999  17.549999  17.549999  17.549999       0   \n",
       "1928-01-06 00:00:00-05:00  17.660000  17.660000  17.660000  17.660000       0   \n",
       "\n",
       "                           Dividends  Stock Splits  \n",
       "Date                                                \n",
       "1927-12-30 00:00:00-05:00        0.0           0.0  \n",
       "1928-01-03 00:00:00-05:00        0.0           0.0  \n",
       "1928-01-04 00:00:00-05:00        0.0           0.0  \n",
       "1928-01-05 00:00:00-05:00        0.0           0.0  \n",
       "1928-01-06 00:00:00-05:00        0.0           0.0  "
      ]
     },
     "execution_count": 4,
     "metadata": {},
     "output_type": "execute_result"
    }
   ],
   "source": [
    "sp500.head()"
   ]
  },
  {
   "cell_type": "markdown",
   "id": "fee547f4",
   "metadata": {},
   "source": [
    "#### Vizualizing S&P500 data"
   ]
  },
  {
   "cell_type": "code",
   "execution_count": 5,
   "id": "d8fe0258",
   "metadata": {},
   "outputs": [
    {
     "data": {
      "text/plain": [
       "<Axes: xlabel='Date'>"
      ]
     },
     "execution_count": 5,
     "metadata": {},
     "output_type": "execute_result"
    },
    {
     "data": {
      "image/png": "[encoded data removed]",
      "text/plain": [
       "<Figure size 640x480 with 1 Axes>"
      ]
     },
     "metadata": {},
     "output_type": "display_data"
    }
   ],
   "source": [
    "sp500.plot.line(y = 'Close', use_index = True)"
   ]
  },
  {
   "cell_type": "markdown",
   "id": "22a8ad70",
   "metadata": {},
   "source": [
    "#### Delete extra columns\n",
    "\n",
    "In our dataset we have extra columns 'Dividends' and 'Stock Splits'. So we have do delete them"
   ]
  },
  {
   "cell_type": "code",
   "execution_count": 6,
   "id": "fc85ee30",
   "metadata": {},
   "outputs": [],
   "source": [
    "del sp500['Dividends']\n",
    "del sp500['Stock Splits']"
   ]
  },
  {
   "cell_type": "code",
   "execution_count": 7,
   "id": "2e994964",
   "metadata": {},
   "outputs": [
    {
     "data": {
      "text/html": [
       "<div>\n",
       "<style scoped>\n",
       "    .dataframe tbody tr th:only-of-type {\n",
       "        vertical-align: middle;\n",
       "    }\n",
       "\n",
       "    .dataframe tbody tr th {\n",
       "        vertical-align: top;\n",
       "    }\n",
       "\n",
       "    .dataframe thead th {\n",
       "        text-align: right;\n",
       "    }\n",
       "</style>\n",
       "<table border=\"1\" class=\"dataframe\">\n",
       "  <thead>\n",
       "    <tr style=\"text-align: right;\">\n",
       "      <th></th>\n",
       "      <th>Open</th>\n",
       "      <th>High</th>\n",
       "      <th>Low</th>\n",
       "      <th>Close</th>\n",
       "      <th>Volume</th>\n",
       "    </tr>\n",
       "    <tr>\n",
       "      <th>Date</th>\n",
       "      <th></th>\n",
       "      <th></th>\n",
       "      <th></th>\n",
       "      <th></th>\n",
       "      <th></th>\n",
       "    </tr>\n",
       "  </thead>\n",
       "  <tbody>\n",
       "    <tr>\n",
       "      <th>1927-12-30 00:00:00-05:00</th>\n",
       "      <td>17.660000</td>\n",
       "      <td>17.660000</td>\n",
       "      <td>17.660000</td>\n",
       "      <td>17.660000</td>\n",
       "      <td>0</td>\n",
       "    </tr>\n",
       "    <tr>\n",
       "      <th>1928-01-03 00:00:00-05:00</th>\n",
       "      <td>17.760000</td>\n",
       "      <td>17.760000</td>\n",
       "      <td>17.760000</td>\n",
       "      <td>17.760000</td>\n",
       "      <td>0</td>\n",
       "    </tr>\n",
       "    <tr>\n",
       "      <th>1928-01-04 00:00:00-05:00</th>\n",
       "      <td>17.719999</td>\n",
       "      <td>17.719999</td>\n",
       "      <td>17.719999</td>\n",
       "      <td>17.719999</td>\n",
       "      <td>0</td>\n",
       "    </tr>\n",
       "    <tr>\n",
       "      <th>1928-01-05 00:00:00-05:00</th>\n",
       "      <td>17.549999</td>\n",
       "      <td>17.549999</td>\n",
       "      <td>17.549999</td>\n",
       "      <td>17.549999</td>\n",
       "      <td>0</td>\n",
       "    </tr>\n",
       "    <tr>\n",
       "      <th>1928-01-06 00:00:00-05:00</th>\n",
       "      <td>17.660000</td>\n",
       "      <td>17.660000</td>\n",
       "      <td>17.660000</td>\n",
       "      <td>17.660000</td>\n",
       "      <td>0</td>\n",
       "    </tr>\n",
       "  </tbody>\n",
       "</table>\n",
       "</div>"
      ],
      "text/plain": [
       "                                Open       High        Low      Close  Volume\n",
       "Date                                                                         \n",
       "1927-12-30 00:00:00-05:00  17.660000  17.660000  17.660000  17.660000       0\n",
       "1928-01-03 00:00:00-05:00  17.760000  17.760000  17.760000  17.760000       0\n",
       "1928-01-04 00:00:00-05:00  17.719999  17.719999  17.719999  17.719999       0\n",
       "1928-01-05 00:00:00-05:00  17.549999  17.549999  17.549999  17.549999       0\n",
       "1928-01-06 00:00:00-05:00  17.660000  17.660000  17.660000  17.660000       0"
      ]
     },
     "execution_count": 7,
     "metadata": {},
     "output_type": "execute_result"
    }
   ],
   "source": [
    "sp500.head()"
   ]
  },
  {
   "cell_type": "markdown",
   "id": "fa8165ed",
   "metadata": {},
   "source": [
    "#### Add new columns 'Tomorrow'\n",
    "\n",
    "In this project I'm going to compare value of SP&500 index in particular day with same value tomorrow day. That's why I have to add new columns 'Tomorrow. Then compare values between today and tomorrow and this will be my 'Target' for this project.  "
   ]
  },
  {
   "cell_type": "code",
   "execution_count": 8,
   "id": "0384756e",
   "metadata": {},
   "outputs": [],
   "source": [
    "sp500['Tomorrow'] = sp500['Close'].shift(-1)"
   ]
  },
  {
   "cell_type": "code",
   "execution_count": 9,
   "id": "40009b98",
   "metadata": {},
   "outputs": [
    {
     "data": {
      "text/html": [
       "<div>\n",
       "<style scoped>\n",
       "    .dataframe tbody tr th:only-of-type {\n",
       "        vertical-align: middle;\n",
       "    }\n",
       "\n",
       "    .dataframe tbody tr th {\n",
       "        vertical-align: top;\n",
       "    }\n",
       "\n",
       "    .dataframe thead th {\n",
       "        text-align: right;\n",
       "    }\n",
       "</style>\n",
       "<table border=\"1\" class=\"dataframe\">\n",
       "  <thead>\n",
       "    <tr style=\"text-align: right;\">\n",
       "      <th></th>\n",
       "      <th>Open</th>\n",
       "      <th>High</th>\n",
       "      <th>Low</th>\n",
       "      <th>Close</th>\n",
       "      <th>Volume</th>\n",
       "      <th>Tomorrow</th>\n",
       "    </tr>\n",
       "    <tr>\n",
       "      <th>Date</th>\n",
       "      <th></th>\n",
       "      <th></th>\n",
       "      <th></th>\n",
       "      <th></th>\n",
       "      <th></th>\n",
       "      <th></th>\n",
       "    </tr>\n",
       "  </thead>\n",
       "  <tbody>\n",
       "    <tr>\n",
       "      <th>1927-12-30 00:00:00-05:00</th>\n",
       "      <td>17.660000</td>\n",
       "      <td>17.660000</td>\n",
       "      <td>17.660000</td>\n",
       "      <td>17.660000</td>\n",
       "      <td>0</td>\n",
       "      <td>17.760000</td>\n",
       "    </tr>\n",
       "    <tr>\n",
       "      <th>1928-01-03 00:00:00-05:00</th>\n",
       "      <td>17.760000</td>\n",
       "      <td>17.760000</td>\n",
       "      <td>17.760000</td>\n",
       "      <td>17.760000</td>\n",
       "      <td>0</td>\n",
       "      <td>17.719999</td>\n",
       "    </tr>\n",
       "    <tr>\n",
       "      <th>1928-01-04 00:00:00-05:00</th>\n",
       "      <td>17.719999</td>\n",
       "      <td>17.719999</td>\n",
       "      <td>17.719999</td>\n",
       "      <td>17.719999</td>\n",
       "      <td>0</td>\n",
       "      <td>17.549999</td>\n",
       "    </tr>\n",
       "    <tr>\n",
       "      <th>1928-01-05 00:00:00-05:00</th>\n",
       "      <td>17.549999</td>\n",
       "      <td>17.549999</td>\n",
       "      <td>17.549999</td>\n",
       "      <td>17.549999</td>\n",
       "      <td>0</td>\n",
       "      <td>17.660000</td>\n",
       "    </tr>\n",
       "    <tr>\n",
       "      <th>1928-01-06 00:00:00-05:00</th>\n",
       "      <td>17.660000</td>\n",
       "      <td>17.660000</td>\n",
       "      <td>17.660000</td>\n",
       "      <td>17.660000</td>\n",
       "      <td>0</td>\n",
       "      <td>17.500000</td>\n",
       "    </tr>\n",
       "  </tbody>\n",
       "</table>\n",
       "</div>"
      ],
      "text/plain": [
       "                                Open       High        Low      Close  Volume  \\\n",
       "Date                                                                            \n",
       "1927-12-30 00:00:00-05:00  17.660000  17.660000  17.660000  17.660000       0   \n",
       "1928-01-03 00:00:00-05:00  17.760000  17.760000  17.760000  17.760000       0   \n",
       "1928-01-04 00:00:00-05:00  17.719999  17.719999  17.719999  17.719999       0   \n",
       "1928-01-05 00:00:00-05:00  17.549999  17.549999  17.549999  17.549999       0   \n",
       "1928-01-06 00:00:00-05:00  17.660000  17.660000  17.660000  17.660000       0   \n",
       "\n",
       "                            Tomorrow  \n",
       "Date                                  \n",
       "1927-12-30 00:00:00-05:00  17.760000  \n",
       "1928-01-03 00:00:00-05:00  17.719999  \n",
       "1928-01-04 00:00:00-05:00  17.549999  \n",
       "1928-01-05 00:00:00-05:00  17.660000  \n",
       "1928-01-06 00:00:00-05:00  17.500000  "
      ]
     },
     "execution_count": 9,
     "metadata": {},
     "output_type": "execute_result"
    }
   ],
   "source": [
    "sp500.head()"
   ]
  },
  {
   "cell_type": "markdown",
   "id": "e594d4f1",
   "metadata": {},
   "source": [
    "#### Creating Target columns"
   ]
  },
  {
   "cell_type": "code",
   "execution_count": 10,
   "id": "f8bad298",
   "metadata": {},
   "outputs": [],
   "source": [
    "sp500['Target'] = (sp500['Tomorrow'] > sp500['Close']).astype(int)"
   ]
  },
  {
   "cell_type": "code",
   "execution_count": 11,
   "id": "3e18c2e8",
   "metadata": {},
   "outputs": [
    {
     "data": {
      "text/html": [
       "<div>\n",
       "<style scoped>\n",
       "    .dataframe tbody tr th:only-of-type {\n",
       "        vertical-align: middle;\n",
       "    }\n",
       "\n",
       "    .dataframe tbody tr th {\n",
       "        vertical-align: top;\n",
       "    }\n",
       "\n",
       "    .dataframe thead th {\n",
       "        text-align: right;\n",
       "    }\n",
       "</style>\n",
       "<table border=\"1\" class=\"dataframe\">\n",
       "  <thead>\n",
       "    <tr style=\"text-align: right;\">\n",
       "      <th></th>\n",
       "      <th>Open</th>\n",
       "      <th>High</th>\n",
       "      <th>Low</th>\n",
       "      <th>Close</th>\n",
       "      <th>Volume</th>\n",
       "      <th>Tomorrow</th>\n",
       "      <th>Target</th>\n",
       "    </tr>\n",
       "    <tr>\n",
       "      <th>Date</th>\n",
       "      <th></th>\n",
       "      <th></th>\n",
       "      <th></th>\n",
       "      <th></th>\n",
       "      <th></th>\n",
       "      <th></th>\n",
       "      <th></th>\n",
       "    </tr>\n",
       "  </thead>\n",
       "  <tbody>\n",
       "    <tr>\n",
       "      <th>1927-12-30 00:00:00-05:00</th>\n",
       "      <td>17.660000</td>\n",
       "      <td>17.660000</td>\n",
       "      <td>17.660000</td>\n",
       "      <td>17.660000</td>\n",
       "      <td>0</td>\n",
       "      <td>17.760000</td>\n",
       "      <td>1</td>\n",
       "    </tr>\n",
       "    <tr>\n",
       "      <th>1928-01-03 00:00:00-05:00</th>\n",
       "      <td>17.760000</td>\n",
       "      <td>17.760000</td>\n",
       "      <td>17.760000</td>\n",
       "      <td>17.760000</td>\n",
       "      <td>0</td>\n",
       "      <td>17.719999</td>\n",
       "      <td>0</td>\n",
       "    </tr>\n",
       "    <tr>\n",
       "      <th>1928-01-04 00:00:00-05:00</th>\n",
       "      <td>17.719999</td>\n",
       "      <td>17.719999</td>\n",
       "      <td>17.719999</td>\n",
       "      <td>17.719999</td>\n",
       "      <td>0</td>\n",
       "      <td>17.549999</td>\n",
       "      <td>0</td>\n",
       "    </tr>\n",
       "    <tr>\n",
       "      <th>1928-01-05 00:00:00-05:00</th>\n",
       "      <td>17.549999</td>\n",
       "      <td>17.549999</td>\n",
       "      <td>17.549999</td>\n",
       "      <td>17.549999</td>\n",
       "      <td>0</td>\n",
       "      <td>17.660000</td>\n",
       "      <td>1</td>\n",
       "    </tr>\n",
       "    <tr>\n",
       "      <th>1928-01-06 00:00:00-05:00</th>\n",
       "      <td>17.660000</td>\n",
       "      <td>17.660000</td>\n",
       "      <td>17.660000</td>\n",
       "      <td>17.660000</td>\n",
       "      <td>0</td>\n",
       "      <td>17.500000</td>\n",
       "      <td>0</td>\n",
       "    </tr>\n",
       "  </tbody>\n",
       "</table>\n",
       "</div>"
      ],
      "text/plain": [
       "                                Open       High        Low      Close  Volume  \\\n",
       "Date                                                                            \n",
       "1927-12-30 00:00:00-05:00  17.660000  17.660000  17.660000  17.660000       0   \n",
       "1928-01-03 00:00:00-05:00  17.760000  17.760000  17.760000  17.760000       0   \n",
       "1928-01-04 00:00:00-05:00  17.719999  17.719999  17.719999  17.719999       0   \n",
       "1928-01-05 00:00:00-05:00  17.549999  17.549999  17.549999  17.549999       0   \n",
       "1928-01-06 00:00:00-05:00  17.660000  17.660000  17.660000  17.660000       0   \n",
       "\n",
       "                            Tomorrow  Target  \n",
       "Date                                          \n",
       "1927-12-30 00:00:00-05:00  17.760000       1  \n",
       "1928-01-03 00:00:00-05:00  17.719999       0  \n",
       "1928-01-04 00:00:00-05:00  17.549999       0  \n",
       "1928-01-05 00:00:00-05:00  17.660000       1  \n",
       "1928-01-06 00:00:00-05:00  17.500000       0  "
      ]
     },
     "execution_count": 11,
     "metadata": {},
     "output_type": "execute_result"
    }
   ],
   "source": [
    "sp500.head()"
   ]
  },
  {
   "cell_type": "markdown",
   "id": "8ad50e49",
   "metadata": {},
   "source": [
    "#### Cut dataset\n",
    "\n",
    "In the dataset sp500 we have data of SP500 index values for the period 1927 - 2023. Firstly I would like to focus on shorter data period. Let's consider period from 1990 to 2023"
   ]
  },
  {
   "cell_type": "code",
   "execution_count": 12,
   "id": "2a167e3f",
   "metadata": {},
   "outputs": [],
   "source": [
    "sp500 = sp500.loc['1990-01-01':].copy()"
   ]
  },
  {
   "cell_type": "markdown",
   "id": "4c93df94",
   "metadata": {},
   "source": [
    "#### Save dataset to csv file and put it in Data directory"
   ]
  },
  {
   "cell_type": "code",
   "execution_count": 13,
   "id": "5b0cd51b",
   "metadata": {},
   "outputs": [],
   "source": [
    "sp500.to_csv('/home/timur/work_hub/mlops_zoomcamp2023/Final_project/Data/sp500_data.csv')"
   ]
  },
  {
   "cell_type": "markdown",
   "id": "dbaaf2af",
   "metadata": {},
   "source": [
    "#### Split data\n",
    "\n",
    "In this project I use time series data. So I can't use cross validation method for splitting my dataset on train and test. That's why I split it in the following way: all the data except last 100 days will be my train dataset and last 100 days data will be test dataset. "
   ]
  },
  {
   "cell_type": "code",
   "execution_count": 14,
   "id": "47e0b741",
   "metadata": {},
   "outputs": [],
   "source": [
    "train = sp500.iloc[:-100]\n",
    "test = sp500.iloc[-100:]"
   ]
  },
  {
   "cell_type": "markdown",
   "id": "69ac2aab",
   "metadata": {},
   "source": [
    "#### Save train and test datasets"
   ]
  },
  {
   "cell_type": "code",
   "execution_count": 15,
   "id": "47009582",
   "metadata": {},
   "outputs": [],
   "source": [
    "train.to_csv('/home/timur/work_hub/mlops_zoomcamp2023/Final_project/Data/train_data.csv')"
   ]
  },
  {
   "cell_type": "code",
   "execution_count": 16,
   "id": "110557a4",
   "metadata": {},
   "outputs": [],
   "source": [
    "test.to_csv('/home/timur/work_hub/mlops_zoomcamp2023/Final_project/Data/test_data.csv')"
   ]
  },
  {
   "cell_type": "markdown",
   "id": "bb288701",
   "metadata": {},
   "source": [
    "#### Pick features\n",
    "I pick columns 'Close', 'Volume', 'Open', 'High', 'Low' as a features"
   ]
  },
  {
   "cell_type": "code",
   "execution_count": 17,
   "id": "98cb3f92",
   "metadata": {},
   "outputs": [],
   "source": [
    "features = ['Close', 'Volume', 'Open', 'High', 'Low']"
   ]
  },
  {
   "cell_type": "markdown",
   "id": "f916c0a3",
   "metadata": {},
   "source": [
    "#### Pick a model and fit it\n",
    "I use RandomForestClassifier as a base model for my project. But I'm going to use different parameters for my model, so I'll label it as a model_1, model_2 etc.\n"
   ]
  },
  {
   "cell_type": "code",
   "execution_count": 18,
   "id": "70b10858",
   "metadata": {},
   "outputs": [],
   "source": [
    "from sklearn.ensemble import RandomForestClassifier"
   ]
  },
  {
   "cell_type": "code",
   "execution_count": 19,
   "id": "8590a875",
   "metadata": {},
   "outputs": [],
   "source": [
    "model_1 = RandomForestClassifier(n_estimators = 100, min_samples_split = 100, random_state = 1)"
   ]
  },
  {
   "cell_type": "code",
   "execution_count": 20,
   "id": "6e6d50f4",
   "metadata": {},
   "outputs": [
    {
     "data": {
      "text/plain": [
       "RandomForestClassifier(min_samples_split=100, random_state=1)"
      ]
     },
     "execution_count": 20,
     "metadata": {},
     "output_type": "execute_result"
    }
   ],
   "source": [
    "model_1.fit(train[features], train['Target'])"
   ]
  },
  {
   "cell_type": "markdown",
   "id": "2015dcd3",
   "metadata": {},
   "source": [
    "#### Evaluating the quality of a model\n",
    "\n",
    "As a metric for evaluating the quality of a model I'm going to use precision_score metric.It measures the model's precision in predicting positive classes among all predicted positive classes.\n",
    "\n",
    "In that particular project precision_score metric show what percentage of the time when we say that market go up it's really go up"
   ]
  },
  {
   "cell_type": "code",
   "execution_count": 21,
   "id": "4797e8ff",
   "metadata": {},
   "outputs": [],
   "source": [
    "from sklearn.metrics import precision_score "
   ]
  },
  {
   "cell_type": "markdown",
   "id": "21301de1",
   "metadata": {},
   "source": [
    "#### Prediction"
   ]
  },
  {
   "cell_type": "code",
   "execution_count": 22,
   "id": "e39a75d4",
   "metadata": {},
   "outputs": [],
   "source": [
    "preds = model_1.predict(test[features])"
   ]
  },
  {
   "cell_type": "code",
   "execution_count": 23,
   "id": "33bec8e9",
   "metadata": {},
   "outputs": [
    {
     "data": {
      "text/plain": [
       "array([0, 0, 0, 1, 0, 1, 0, 1, 0, 0, 0, 0, 0, 0, 0, 0, 1, 0, 1, 0, 0, 0,\n",
       "       0, 1, 0, 1, 1, 0, 0, 1, 1, 0, 1, 0, 1, 0, 0, 1, 0, 0, 0, 1, 1, 0,\n",
       "       1, 0, 1, 1, 0, 0, 0, 1, 0, 1, 0, 1, 0, 0, 0, 1, 1, 1, 1, 1, 1, 1,\n",
       "       1, 1, 1, 0, 0, 1, 1, 0, 0, 1, 1, 1, 1, 1, 1, 1, 1, 0, 1, 1, 1, 1,\n",
       "       1, 1, 1, 1, 1, 1, 1, 1, 1, 1, 1, 1])"
      ]
     },
     "execution_count": 23,
     "metadata": {},
     "output_type": "execute_result"
    }
   ],
   "source": [
    "preds"
   ]
  },
  {
   "cell_type": "markdown",
   "id": "800e5603",
   "metadata": {},
   "source": [
    "#### It's hard to work with numpy so let's turn it to pandas Series"
   ]
  },
  {
   "cell_type": "code",
   "execution_count": 24,
   "id": "95970ea5",
   "metadata": {},
   "outputs": [],
   "source": [
    "preds = pd.Series(preds, index = test.index)"
   ]
  },
  {
   "cell_type": "code",
   "execution_count": 25,
   "id": "2924f96f",
   "metadata": {},
   "outputs": [
    {
     "data": {
      "text/plain": [
       "Date\n",
       "2023-03-09 00:00:00-05:00    0\n",
       "2023-03-10 00:00:00-05:00    0\n",
       "2023-03-13 00:00:00-04:00    0\n",
       "2023-03-14 00:00:00-04:00    1\n",
       "2023-03-15 00:00:00-04:00    0\n",
       "                            ..\n",
       "2023-07-26 00:00:00-04:00    1\n",
       "2023-07-27 00:00:00-04:00    1\n",
       "2023-07-28 00:00:00-04:00    1\n",
       "2023-07-31 00:00:00-04:00    1\n",
       "2023-08-01 00:00:00-04:00    1\n",
       "Length: 100, dtype: int64"
      ]
     },
     "execution_count": 25,
     "metadata": {},
     "output_type": "execute_result"
    }
   ],
   "source": [
    "preds"
   ]
  },
  {
   "cell_type": "markdown",
   "id": "a5d548be",
   "metadata": {},
   "source": [
    "### Обратите внимание, что для правильной интерпретации метрики precision_score рекомендуется также рассматривать ее вместе с другими метриками, такими как полнота (recall), F1-мера и матрица ошибок (confusion matrix), чтобы получить более полное представление о производительности классификационной модели."
   ]
  },
  {
   "cell_type": "markdown",
   "id": "4b3faa65",
   "metadata": {},
   "source": [
    "#### Calculate precision score"
   ]
  },
  {
   "cell_type": "code",
   "execution_count": 53,
   "id": "4389d616",
   "metadata": {},
   "outputs": [],
   "source": [
    "accuracy = precision_score(test['Target'], preds)"
   ]
  },
  {
   "cell_type": "code",
   "execution_count": 54,
   "id": "645279ba",
   "metadata": {},
   "outputs": [
    {
     "data": {
      "text/plain": [
       "0.5964912280701754"
      ]
     },
     "execution_count": 54,
     "metadata": {},
     "output_type": "execute_result"
    }
   ],
   "source": [
    "accuracy"
   ]
  },
  {
   "cell_type": "code",
   "execution_count": null,
   "id": "7a63b85c",
   "metadata": {},
   "outputs": [],
   "source": []
  },
  {
   "cell_type": "markdown",
   "id": "41d6b7dd",
   "metadata": {},
   "source": [
    "#### Mlflow tracking"
   ]
  },
  {
   "cell_type": "code",
   "execution_count": 70,
   "id": "6913d8e9",
   "metadata": {},
   "outputs": [
    {
     "name": "stderr",
     "output_type": "stream",
     "text": [
      "2023/08/02 15:02:31 INFO mlflow.tracking.fluent: Autologging successfully enabled for sklearn.\n",
      "2023/08/02 15:02:31 WARNING mlflow.utils.autologging_utils: MLflow autologging encountered a warning: \"/home/timur/.local/lib/python3.8/site-packages/mlflow/data/pandas_dataset.py:116: UserWarning: Hint: Inferred schema contains integer column(s). Integer columns in Python cannot represent missing values. If your input data contains missing values at inference time, it will be encoded as floats and will cause a schema enforcement error. The best way to avoid this problem is to infer the model schema based on a realistic data sample (training dataset) that includes missing values. Alternatively, you can declare integer columns as doubles (float64) whenever these columns may have missing values. See `Handling Integers With Missing Values <https://www.mlflow.org/docs/latest/models.html#handling-integers-with-missing-values>`_ for more details.\"\n",
      "2023/08/02 15:02:35 WARNING mlflow.utils.autologging_utils: MLflow autologging encountered a warning: \"/home/timur/.local/lib/python3.8/site-packages/mlflow/models/signature.py:152: UserWarning: Hint: Inferred schema contains integer column(s). Integer columns in Python cannot represent missing values. If your input data contains missing values at inference time, it will be encoded as floats and will cause a schema enforcement error. The best way to avoid this problem is to infer the model schema based on a realistic data sample (training dataset) that includes missing values. Alternatively, you can declare integer columns as doubles (float64) whenever these columns may have missing values. See `Handling Integers With Missing Values <https://www.mlflow.org/docs/latest/models.html#handling-integers-with-missing-values>`_ for more details.\"\n",
      "2023/08/02 15:02:37 WARNING mlflow.utils.autologging_utils: MLflow autologging encountered a warning: \"/home/timur/.local/lib/python3.8/site-packages/mlflow/data/pandas_dataset.py:116: UserWarning: Hint: Inferred schema contains integer column(s). Integer columns in Python cannot represent missing values. If your input data contains missing values at inference time, it will be encoded as floats and will cause a schema enforcement error. The best way to avoid this problem is to infer the model schema based on a realistic data sample (training dataset) that includes missing values. Alternatively, you can declare integer columns as doubles (float64) whenever these columns may have missing values. See `Handling Integers With Missing Values <https://www.mlflow.org/docs/latest/models.html#handling-integers-with-missing-values>`_ for more details.\"\n"
     ]
    }
   ],
   "source": [
    "with mlflow.start_run():\n",
    "        \n",
    "    mlflow.set_tag('developer', 'Timur')\n",
    "    mlflow.set_tag('model', 'RandomForestClassifier')\n",
    "    mlflow.set_tag('type', 'without_backtesting')\n",
    "    \n",
    "    mlflow.log_param('train-data-path', '/home/timur/work_hub/mlops_zoomcamp2023/Final_project/Data/train_data.csv')\n",
    "    mlflow.log_param('test-data-path', '/home/timur/work_hub/mlops_zoomcamp2023/Final_project/Data/test_data.csv')\n",
    "    \n",
    "    n_estimators = 100\n",
    "    min_samples_split = 100\n",
    "    random_state = 1\n",
    "\n",
    "    mlflow.log_param('n_estimators', n_estimators)\n",
    "    mlflow.log_param('min_samples_split', min_samples_split)\n",
    "    mlflow.log_param('random_state', random_state)\n",
    "    \n",
    "    model_1 = RandomForestClassifier(n_estimators=n_estimators, min_samples_split=min_samples_split, random_state=random_state)\n",
    "    model_1.fit(train[features], train['Target'])\n",
    "                    \n",
    "    preds = model_1.predict(test[features])                 \n",
    "    accuracy = precision_score(test['Target'], preds)\n",
    "    mlflow.log_metric('accuracy', accuracy)\n",
    "    \n",
    "\n",
    "    "
   ]
  },
  {
   "cell_type": "markdown",
   "id": "96d0a1e5",
   "metadata": {},
   "source": [
    "#### Intermediate conclusion\n",
    "\n",
    "The RandomForestClassifier model has a fairly high precision in predicting positive classes (for example, classes with label 1). This means that among the objects that the model classified as positive, about 61% are actually positive.\n",
    "\n",
    "However, to fully evaluate the performance of a model, other metrics such as recall and F1 score must also be considered. Precision is only one of the metrics and may not give a complete picture of the quality of the model."
   ]
  },
  {
   "cell_type": "markdown",
   "id": "7bf15333",
   "metadata": {},
   "source": [
    "#### Save model_1"
   ]
  },
  {
   "cell_type": "code",
   "execution_count": 27,
   "id": "3b1f9d73",
   "metadata": {},
   "outputs": [],
   "source": [
    "with open('/home/timur/work_hub/mlops_zoomcamp2023/Final_project/Models/random_forest_model_1.pkl', 'wb') as f_out:\n",
    "    pickle.dump(model_1, f_out)"
   ]
  },
  {
   "cell_type": "markdown",
   "id": "6455afcd",
   "metadata": {},
   "source": [
    "#### Improving result\n",
    "\n",
    "Not bad, not bad. But let's try improve that\n",
    "\n",
    "First of all, let's combined our test target with prediction target to see how accurate it is"
   ]
  },
  {
   "cell_type": "code",
   "execution_count": 28,
   "id": "e30e5207",
   "metadata": {},
   "outputs": [],
   "source": [
    "combined = pd.concat([test['Target'], preds], axis = 1)"
   ]
  },
  {
   "cell_type": "code",
   "execution_count": 29,
   "id": "876a1065",
   "metadata": {},
   "outputs": [
    {
     "data": {
      "text/html": [
       "<div>\n",
       "<style scoped>\n",
       "    .dataframe tbody tr th:only-of-type {\n",
       "        vertical-align: middle;\n",
       "    }\n",
       "\n",
       "    .dataframe tbody tr th {\n",
       "        vertical-align: top;\n",
       "    }\n",
       "\n",
       "    .dataframe thead th {\n",
       "        text-align: right;\n",
       "    }\n",
       "</style>\n",
       "<table border=\"1\" class=\"dataframe\">\n",
       "  <thead>\n",
       "    <tr style=\"text-align: right;\">\n",
       "      <th></th>\n",
       "      <th>Target</th>\n",
       "      <th>0</th>\n",
       "    </tr>\n",
       "    <tr>\n",
       "      <th>Date</th>\n",
       "      <th></th>\n",
       "      <th></th>\n",
       "    </tr>\n",
       "  </thead>\n",
       "  <tbody>\n",
       "    <tr>\n",
       "      <th>2023-03-09 00:00:00-05:00</th>\n",
       "      <td>0</td>\n",
       "      <td>0</td>\n",
       "    </tr>\n",
       "    <tr>\n",
       "      <th>2023-03-10 00:00:00-05:00</th>\n",
       "      <td>0</td>\n",
       "      <td>0</td>\n",
       "    </tr>\n",
       "    <tr>\n",
       "      <th>2023-03-13 00:00:00-04:00</th>\n",
       "      <td>1</td>\n",
       "      <td>0</td>\n",
       "    </tr>\n",
       "    <tr>\n",
       "      <th>2023-03-14 00:00:00-04:00</th>\n",
       "      <td>0</td>\n",
       "      <td>1</td>\n",
       "    </tr>\n",
       "    <tr>\n",
       "      <th>2023-03-15 00:00:00-04:00</th>\n",
       "      <td>1</td>\n",
       "      <td>0</td>\n",
       "    </tr>\n",
       "    <tr>\n",
       "      <th>...</th>\n",
       "      <td>...</td>\n",
       "      <td>...</td>\n",
       "    </tr>\n",
       "    <tr>\n",
       "      <th>2023-07-26 00:00:00-04:00</th>\n",
       "      <td>0</td>\n",
       "      <td>1</td>\n",
       "    </tr>\n",
       "    <tr>\n",
       "      <th>2023-07-27 00:00:00-04:00</th>\n",
       "      <td>1</td>\n",
       "      <td>1</td>\n",
       "    </tr>\n",
       "    <tr>\n",
       "      <th>2023-07-28 00:00:00-04:00</th>\n",
       "      <td>1</td>\n",
       "      <td>1</td>\n",
       "    </tr>\n",
       "    <tr>\n",
       "      <th>2023-07-31 00:00:00-04:00</th>\n",
       "      <td>0</td>\n",
       "      <td>1</td>\n",
       "    </tr>\n",
       "    <tr>\n",
       "      <th>2023-08-01 00:00:00-04:00</th>\n",
       "      <td>0</td>\n",
       "      <td>1</td>\n",
       "    </tr>\n",
       "  </tbody>\n",
       "</table>\n",
       "<p>100 rows × 2 columns</p>\n",
       "</div>"
      ],
      "text/plain": [
       "                           Target  0\n",
       "Date                                \n",
       "2023-03-09 00:00:00-05:00       0  0\n",
       "2023-03-10 00:00:00-05:00       0  0\n",
       "2023-03-13 00:00:00-04:00       1  0\n",
       "2023-03-14 00:00:00-04:00       0  1\n",
       "2023-03-15 00:00:00-04:00       1  0\n",
       "...                           ... ..\n",
       "2023-07-26 00:00:00-04:00       0  1\n",
       "2023-07-27 00:00:00-04:00       1  1\n",
       "2023-07-28 00:00:00-04:00       1  1\n",
       "2023-07-31 00:00:00-04:00       0  1\n",
       "2023-08-01 00:00:00-04:00       0  1\n",
       "\n",
       "[100 rows x 2 columns]"
      ]
     },
     "execution_count": 29,
     "metadata": {},
     "output_type": "execute_result"
    }
   ],
   "source": [
    "combined"
   ]
  },
  {
   "cell_type": "markdown",
   "id": "95cec8cd",
   "metadata": {},
   "source": [
    "#### Create a plot"
   ]
  },
  {
   "cell_type": "code",
   "execution_count": 30,
   "id": "3c694b30",
   "metadata": {},
   "outputs": [
    {
     "data": {
      "text/plain": [
       "<Axes: xlabel='Date'>"
      ]
     },
     "execution_count": 30,
     "metadata": {},
     "output_type": "execute_result"
    },
    {
     "data": {
      "image/png": "[encoded data removed]",
      "text/plain": [
       "<Figure size 640x480 with 1 Axes>"
      ]
     },
     "metadata": {},
     "output_type": "display_data"
    }
   ],
   "source": [
    "combined.plot()"
   ]
  },
  {
   "cell_type": "markdown",
   "id": "df851705",
   "metadata": {},
   "source": [
    "We see that model work quite good for prediction when the market go up, but less accurate when the market go down"
   ]
  },
  {
   "cell_type": "markdown",
   "id": "9ff6ce84",
   "metadata": {},
   "source": [
    "#### Backtesting\n",
    "\n",
    "Earlier I test my model against only last 100 days. But in real life it's make sense to test stock price model across multiply years. \n",
    "\n",
    "That's why I'm going to create 2 function for create backtesting system. "
   ]
  },
  {
   "cell_type": "markdown",
   "id": "22a83ab3",
   "metadata": {},
   "source": [
    "The first step is create predict function to wrap up everything what I did earlier in one place"
   ]
  },
  {
   "cell_type": "code",
   "execution_count": 31,
   "id": "d0cc0a64",
   "metadata": {},
   "outputs": [],
   "source": [
    "def predict(train, test, features, model):\n",
    "    model.fit(train[features], train['Target'])\n",
    "    preds = model.predict(test[features])\n",
    "    preds = pd.Series(preds, index = test.index, name = 'Predictions')\n",
    "    combined = pd.concat([test['Target'], preds], axis = 1)\n",
    "    return combined\n",
    "    "
   ]
  },
  {
   "cell_type": "markdown",
   "id": "34f3149b",
   "metadata": {},
   "source": [
    "Then I create backtest function. I use arguments like 'start' and 'step'. There's what does it mean. \n",
    "\n",
    "We have approximately 250 trading days in one year. So I set set start like 2500 what means that I take data for the last 10 years and test it for the next(eleven) years (and for that reason I use step equal 250).\n",
    "\n",
    "So the 'train' dataset include all year prior to the current year, and 'test' dataset is current year"
   ]
  },
  {
   "cell_type": "code",
   "execution_count": 32,
   "id": "8fb859b4",
   "metadata": {},
   "outputs": [],
   "source": [
    "def backtest(data, model, features, start = 2500, step = 250):\n",
    "    all_predictors = []\n",
    "    \n",
    "    \n",
    "    for i in range(start, data.shape[0], step):\n",
    "        train = data.iloc[0:i].copy()\n",
    "        test = data.iloc[i:(i+step)].copy()\n",
    "        # use def predict for generate predictions\n",
    "        predictions = predict(train, test, features, model)\n",
    "        all_predictors.append(predictions)\n",
    "        \n",
    "    return pd.concat(all_predictors)"
   ]
  },
  {
   "cell_type": "code",
   "execution_count": 33,
   "id": "d6f15451",
   "metadata": {},
   "outputs": [],
   "source": [
    "predictions = backtest(sp500, model_1, features)"
   ]
  },
  {
   "cell_type": "markdown",
   "id": "c0982707",
   "metadata": {},
   "source": [
    "#### Analyse result\n",
    "\n",
    "Firtsly let's see how many times the Market goes up versus down"
   ]
  },
  {
   "cell_type": "code",
   "execution_count": 34,
   "id": "40a577a2",
   "metadata": {},
   "outputs": [
    {
     "data": {
      "text/plain": [
       "Predictions\n",
       "0    3433\n",
       "1    2527\n",
       "Name: count, dtype: int64"
      ]
     },
     "execution_count": 34,
     "metadata": {},
     "output_type": "execute_result"
    }
   ],
   "source": [
    "predictions['Predictions'].value_counts()"
   ]
  },
  {
   "cell_type": "code",
   "execution_count": 35,
   "id": "38b45296",
   "metadata": {},
   "outputs": [
    {
     "data": {
      "text/html": [
       "<div>\n",
       "<style scoped>\n",
       "    .dataframe tbody tr th:only-of-type {\n",
       "        vertical-align: middle;\n",
       "    }\n",
       "\n",
       "    .dataframe tbody tr th {\n",
       "        vertical-align: top;\n",
       "    }\n",
       "\n",
       "    .dataframe thead th {\n",
       "        text-align: right;\n",
       "    }\n",
       "</style>\n",
       "<table border=\"1\" class=\"dataframe\">\n",
       "  <thead>\n",
       "    <tr style=\"text-align: right;\">\n",
       "      <th></th>\n",
       "      <th>Target</th>\n",
       "      <th>Predictions</th>\n",
       "    </tr>\n",
       "    <tr>\n",
       "      <th>Date</th>\n",
       "      <th></th>\n",
       "      <th></th>\n",
       "    </tr>\n",
       "  </thead>\n",
       "  <tbody>\n",
       "    <tr>\n",
       "      <th>1999-11-22 00:00:00-05:00</th>\n",
       "      <td>0</td>\n",
       "      <td>0</td>\n",
       "    </tr>\n",
       "    <tr>\n",
       "      <th>1999-11-23 00:00:00-05:00</th>\n",
       "      <td>1</td>\n",
       "      <td>0</td>\n",
       "    </tr>\n",
       "    <tr>\n",
       "      <th>1999-11-24 00:00:00-05:00</th>\n",
       "      <td>0</td>\n",
       "      <td>0</td>\n",
       "    </tr>\n",
       "    <tr>\n",
       "      <th>1999-11-26 00:00:00-05:00</th>\n",
       "      <td>0</td>\n",
       "      <td>0</td>\n",
       "    </tr>\n",
       "    <tr>\n",
       "      <th>1999-11-29 00:00:00-05:00</th>\n",
       "      <td>0</td>\n",
       "      <td>0</td>\n",
       "    </tr>\n",
       "    <tr>\n",
       "      <th>...</th>\n",
       "      <td>...</td>\n",
       "      <td>...</td>\n",
       "    </tr>\n",
       "    <tr>\n",
       "      <th>2023-07-26 00:00:00-04:00</th>\n",
       "      <td>0</td>\n",
       "      <td>1</td>\n",
       "    </tr>\n",
       "    <tr>\n",
       "      <th>2023-07-27 00:00:00-04:00</th>\n",
       "      <td>1</td>\n",
       "      <td>1</td>\n",
       "    </tr>\n",
       "    <tr>\n",
       "      <th>2023-07-28 00:00:00-04:00</th>\n",
       "      <td>1</td>\n",
       "      <td>1</td>\n",
       "    </tr>\n",
       "    <tr>\n",
       "      <th>2023-07-31 00:00:00-04:00</th>\n",
       "      <td>0</td>\n",
       "      <td>1</td>\n",
       "    </tr>\n",
       "    <tr>\n",
       "      <th>2023-08-01 00:00:00-04:00</th>\n",
       "      <td>0</td>\n",
       "      <td>1</td>\n",
       "    </tr>\n",
       "  </tbody>\n",
       "</table>\n",
       "<p>5960 rows × 2 columns</p>\n",
       "</div>"
      ],
      "text/plain": [
       "                           Target  Predictions\n",
       "Date                                          \n",
       "1999-11-22 00:00:00-05:00       0            0\n",
       "1999-11-23 00:00:00-05:00       1            0\n",
       "1999-11-24 00:00:00-05:00       0            0\n",
       "1999-11-26 00:00:00-05:00       0            0\n",
       "1999-11-29 00:00:00-05:00       0            0\n",
       "...                           ...          ...\n",
       "2023-07-26 00:00:00-04:00       0            1\n",
       "2023-07-27 00:00:00-04:00       1            1\n",
       "2023-07-28 00:00:00-04:00       1            1\n",
       "2023-07-31 00:00:00-04:00       0            1\n",
       "2023-08-01 00:00:00-04:00       0            1\n",
       "\n",
       "[5960 rows x 2 columns]"
      ]
     },
     "execution_count": 35,
     "metadata": {},
     "output_type": "execute_result"
    }
   ],
   "source": [
    "predictions"
   ]
  },
  {
   "cell_type": "code",
   "execution_count": 36,
   "id": "dceff3b6",
   "metadata": {},
   "outputs": [
    {
     "data": {
      "text/plain": [
       "0.5302730510486743"
      ]
     },
     "execution_count": 36,
     "metadata": {},
     "output_type": "execute_result"
    }
   ],
   "source": [
    "precision_score(predictions['Target'], predictions['Predictions'])"
   ]
  },
  {
   "cell_type": "markdown",
   "id": "1f02e23f",
   "metadata": {},
   "source": [
    "#### Mlflow"
   ]
  },
  {
   "cell_type": "code",
   "execution_count": 71,
   "id": "9eb5e6f9",
   "metadata": {},
   "outputs": [
    {
     "name": "stderr",
     "output_type": "stream",
     "text": [
      "2023/08/02 15:03:27 WARNING mlflow.utils.autologging_utils: MLflow autologging encountered a warning: \"/home/timur/.local/lib/python3.8/site-packages/mlflow/data/pandas_dataset.py:116: UserWarning: Hint: Inferred schema contains integer column(s). Integer columns in Python cannot represent missing values. If your input data contains missing values at inference time, it will be encoded as floats and will cause a schema enforcement error. The best way to avoid this problem is to infer the model schema based on a realistic data sample (training dataset) that includes missing values. Alternatively, you can declare integer columns as doubles (float64) whenever these columns may have missing values. See `Handling Integers With Missing Values <https://www.mlflow.org/docs/latest/models.html#handling-integers-with-missing-values>`_ for more details.\"\n",
      "2023/08/02 15:03:30 WARNING mlflow.utils.autologging_utils: MLflow autologging encountered a warning: \"/home/timur/.local/lib/python3.8/site-packages/mlflow/models/signature.py:152: UserWarning: Hint: Inferred schema contains integer column(s). Integer columns in Python cannot represent missing values. If your input data contains missing values at inference time, it will be encoded as floats and will cause a schema enforcement error. The best way to avoid this problem is to infer the model schema based on a realistic data sample (training dataset) that includes missing values. Alternatively, you can declare integer columns as doubles (float64) whenever these columns may have missing values. See `Handling Integers With Missing Values <https://www.mlflow.org/docs/latest/models.html#handling-integers-with-missing-values>`_ for more details.\"\n",
      "2023/08/02 15:03:32 WARNING mlflow.utils.autologging_utils: Encountered unexpected error during sklearn autologging: The following failures occurred while performing one or more logging operations: [MlflowException('Failed to perform one or more operations on the run with ID 8946cc2aec5641d4af65698604b867ca. Failed operations: [MlflowException(\"Changing param values is not allowed. Params were already logged=\\'[{\\'key\\': \\'min_samples_split\\', \\'old_value\\': \\'100\\', \\'new_value\\': \\'50\\'}, {\\'key\\': \\'n_estimators\\', \\'old_value\\': \\'100\\', \\'new_value\\': \\'200\\'}]\\' for run ID=\\'8946cc2aec5641d4af65698604b867ca\\'.\")]')]\n",
      "2023/08/02 15:03:32 WARNING mlflow.utils.autologging_utils: MLflow autologging encountered a warning: \"/home/timur/.local/lib/python3.8/site-packages/mlflow/data/pandas_dataset.py:116: UserWarning: Hint: Inferred schema contains integer column(s). Integer columns in Python cannot represent missing values. If your input data contains missing values at inference time, it will be encoded as floats and will cause a schema enforcement error. The best way to avoid this problem is to infer the model schema based on a realistic data sample (training dataset) that includes missing values. Alternatively, you can declare integer columns as doubles (float64) whenever these columns may have missing values. See `Handling Integers With Missing Values <https://www.mlflow.org/docs/latest/models.html#handling-integers-with-missing-values>`_ for more details.\"\n",
      "2023/08/02 15:03:35 WARNING mlflow.utils.autologging_utils: MLflow autologging encountered a warning: \"/home/timur/.local/lib/python3.8/site-packages/mlflow/models/signature.py:152: UserWarning: Hint: Inferred schema contains integer column(s). Integer columns in Python cannot represent missing values. If your input data contains missing values at inference time, it will be encoded as floats and will cause a schema enforcement error. The best way to avoid this problem is to infer the model schema based on a realistic data sample (training dataset) that includes missing values. Alternatively, you can declare integer columns as doubles (float64) whenever these columns may have missing values. See `Handling Integers With Missing Values <https://www.mlflow.org/docs/latest/models.html#handling-integers-with-missing-values>`_ for more details.\"\n",
      "2023/08/02 15:03:37 WARNING mlflow.utils.autologging_utils: Encountered unexpected error during sklearn autologging: The following failures occurred while performing one or more logging operations: [MlflowException('Failed to perform one or more operations on the run with ID 8946cc2aec5641d4af65698604b867ca. Failed operations: [MlflowException(\"Changing param values is not allowed. Params were already logged=\\'[{\\'key\\': \\'min_samples_split\\', \\'old_value\\': \\'100\\', \\'new_value\\': \\'50\\'}, {\\'key\\': \\'n_estimators\\', \\'old_value\\': \\'100\\', \\'new_value\\': \\'200\\'}]\\' for run ID=\\'8946cc2aec5641d4af65698604b867ca\\'.\")]')]\n",
      "2023/08/02 15:03:37 WARNING mlflow.utils.autologging_utils: MLflow autologging encountered a warning: \"/home/timur/.local/lib/python3.8/site-packages/mlflow/data/pandas_dataset.py:116: UserWarning: Hint: Inferred schema contains integer column(s). Integer columns in Python cannot represent missing values. If your input data contains missing values at inference time, it will be encoded as floats and will cause a schema enforcement error. The best way to avoid this problem is to infer the model schema based on a realistic data sample (training dataset) that includes missing values. Alternatively, you can declare integer columns as doubles (float64) whenever these columns may have missing values. See `Handling Integers With Missing Values <https://www.mlflow.org/docs/latest/models.html#handling-integers-with-missing-values>`_ for more details.\"\n",
      "2023/08/02 15:03:41 WARNING mlflow.utils.autologging_utils: MLflow autologging encountered a warning: \"/home/timur/.local/lib/python3.8/site-packages/mlflow/models/signature.py:152: UserWarning: Hint: Inferred schema contains integer column(s). Integer columns in Python cannot represent missing values. If your input data contains missing values at inference time, it will be encoded as floats and will cause a schema enforcement error. The best way to avoid this problem is to infer the model schema based on a realistic data sample (training dataset) that includes missing values. Alternatively, you can declare integer columns as doubles (float64) whenever these columns may have missing values. See `Handling Integers With Missing Values <https://www.mlflow.org/docs/latest/models.html#handling-integers-with-missing-values>`_ for more details.\"\n",
      "2023/08/02 15:03:43 WARNING mlflow.utils.autologging_utils: Encountered unexpected error during sklearn autologging: The following failures occurred while performing one or more logging operations: [MlflowException('Failed to perform one or more operations on the run with ID 8946cc2aec5641d4af65698604b867ca. Failed operations: [MlflowException(\"Changing param values is not allowed. Params were already logged=\\'[{\\'key\\': \\'min_samples_split\\', \\'old_value\\': \\'100\\', \\'new_value\\': \\'50\\'}, {\\'key\\': \\'n_estimators\\', \\'old_value\\': \\'100\\', \\'new_value\\': \\'200\\'}]\\' for run ID=\\'8946cc2aec5641d4af65698604b867ca\\'.\")]')]\n",
      "2023/08/02 15:03:43 WARNING mlflow.utils.autologging_utils: MLflow autologging encountered a warning: \"/home/timur/.local/lib/python3.8/site-packages/mlflow/data/pandas_dataset.py:116: UserWarning: Hint: Inferred schema contains integer column(s). Integer columns in Python cannot represent missing values. If your input data contains missing values at inference time, it will be encoded as floats and will cause a schema enforcement error. The best way to avoid this problem is to infer the model schema based on a realistic data sample (training dataset) that includes missing values. Alternatively, you can declare integer columns as doubles (float64) whenever these columns may have missing values. See `Handling Integers With Missing Values <https://www.mlflow.org/docs/latest/models.html#handling-integers-with-missing-values>`_ for more details.\"\n",
      "2023/08/02 15:03:46 WARNING mlflow.utils.autologging_utils: MLflow autologging encountered a warning: \"/home/timur/.local/lib/python3.8/site-packages/mlflow/models/signature.py:152: UserWarning: Hint: Inferred schema contains integer column(s). Integer columns in Python cannot represent missing values. If your input data contains missing values at inference time, it will be encoded as floats and will cause a schema enforcement error. The best way to avoid this problem is to infer the model schema based on a realistic data sample (training dataset) that includes missing values. Alternatively, you can declare integer columns as doubles (float64) whenever these columns may have missing values. See `Handling Integers With Missing Values <https://www.mlflow.org/docs/latest/models.html#handling-integers-with-missing-values>`_ for more details.\"\n"
     ]
    },
    {
     "name": "stderr",
     "output_type": "stream",
     "text": [
      "2023/08/02 15:03:48 WARNING mlflow.utils.autologging_utils: Encountered unexpected error during sklearn autologging: The following failures occurred while performing one or more logging operations: [MlflowException('Failed to perform one or more operations on the run with ID 8946cc2aec5641d4af65698604b867ca. Failed operations: [MlflowException(\"Changing param values is not allowed. Params were already logged=\\'[{\\'key\\': \\'min_samples_split\\', \\'old_value\\': \\'100\\', \\'new_value\\': \\'50\\'}, {\\'key\\': \\'n_estimators\\', \\'old_value\\': \\'100\\', \\'new_value\\': \\'200\\'}]\\' for run ID=\\'8946cc2aec5641d4af65698604b867ca\\'.\")]')]\n",
      "2023/08/02 15:03:48 WARNING mlflow.utils.autologging_utils: MLflow autologging encountered a warning: \"/home/timur/.local/lib/python3.8/site-packages/mlflow/data/pandas_dataset.py:116: UserWarning: Hint: Inferred schema contains integer column(s). Integer columns in Python cannot represent missing values. If your input data contains missing values at inference time, it will be encoded as floats and will cause a schema enforcement error. The best way to avoid this problem is to infer the model schema based on a realistic data sample (training dataset) that includes missing values. Alternatively, you can declare integer columns as doubles (float64) whenever these columns may have missing values. See `Handling Integers With Missing Values <https://www.mlflow.org/docs/latest/models.html#handling-integers-with-missing-values>`_ for more details.\"\n",
      "2023/08/02 15:03:51 WARNING mlflow.utils.autologging_utils: MLflow autologging encountered a warning: \"/home/timur/.local/lib/python3.8/site-packages/mlflow/models/signature.py:152: UserWarning: Hint: Inferred schema contains integer column(s). Integer columns in Python cannot represent missing values. If your input data contains missing values at inference time, it will be encoded as floats and will cause a schema enforcement error. The best way to avoid this problem is to infer the model schema based on a realistic data sample (training dataset) that includes missing values. Alternatively, you can declare integer columns as doubles (float64) whenever these columns may have missing values. See `Handling Integers With Missing Values <https://www.mlflow.org/docs/latest/models.html#handling-integers-with-missing-values>`_ for more details.\"\n",
      "2023/08/02 15:03:53 WARNING mlflow.utils.autologging_utils: Encountered unexpected error during sklearn autologging: The following failures occurred while performing one or more logging operations: [MlflowException('Failed to perform one or more operations on the run with ID 8946cc2aec5641d4af65698604b867ca. Failed operations: [MlflowException(\"Changing param values is not allowed. Params were already logged=\\'[{\\'key\\': \\'min_samples_split\\', \\'old_value\\': \\'100\\', \\'new_value\\': \\'50\\'}, {\\'key\\': \\'n_estimators\\', \\'old_value\\': \\'100\\', \\'new_value\\': \\'200\\'}]\\' for run ID=\\'8946cc2aec5641d4af65698604b867ca\\'.\")]')]\n",
      "2023/08/02 15:03:53 WARNING mlflow.utils.autologging_utils: MLflow autologging encountered a warning: \"/home/timur/.local/lib/python3.8/site-packages/mlflow/data/pandas_dataset.py:116: UserWarning: Hint: Inferred schema contains integer column(s). Integer columns in Python cannot represent missing values. If your input data contains missing values at inference time, it will be encoded as floats and will cause a schema enforcement error. The best way to avoid this problem is to infer the model schema based on a realistic data sample (training dataset) that includes missing values. Alternatively, you can declare integer columns as doubles (float64) whenever these columns may have missing values. See `Handling Integers With Missing Values <https://www.mlflow.org/docs/latest/models.html#handling-integers-with-missing-values>`_ for more details.\"\n",
      "2023/08/02 15:03:57 WARNING mlflow.utils.autologging_utils: MLflow autologging encountered a warning: \"/home/timur/.local/lib/python3.8/site-packages/mlflow/models/signature.py:152: UserWarning: Hint: Inferred schema contains integer column(s). Integer columns in Python cannot represent missing values. If your input data contains missing values at inference time, it will be encoded as floats and will cause a schema enforcement error. The best way to avoid this problem is to infer the model schema based on a realistic data sample (training dataset) that includes missing values. Alternatively, you can declare integer columns as doubles (float64) whenever these columns may have missing values. See `Handling Integers With Missing Values <https://www.mlflow.org/docs/latest/models.html#handling-integers-with-missing-values>`_ for more details.\"\n",
      "2023/08/02 15:03:58 WARNING mlflow.models.model: Logging model metadata to the tracking server has failed. The model artifacts have been logged successfully under /home/timur/work_hub/mlops_zoomcamp2023/Final_project/mlruns/1/8946cc2aec5641d4af65698604b867ca/artifacts. Set logging level to DEBUG via `logging.getLogger(\"mlflow\").setLevel(logging.DEBUG)` to see the full traceback.\n",
      "2023/08/02 15:03:58 WARNING mlflow.utils.autologging_utils: Encountered unexpected error during sklearn autologging: The following failures occurred while performing one or more logging operations: [MlflowException('Failed to perform one or more operations on the run with ID 8946cc2aec5641d4af65698604b867ca. Failed operations: [MlflowException(\"Changing param values is not allowed. Params were already logged=\\'[{\\'key\\': \\'min_samples_split\\', \\'old_value\\': \\'100\\', \\'new_value\\': \\'50\\'}, {\\'key\\': \\'n_estimators\\', \\'old_value\\': \\'100\\', \\'new_value\\': \\'200\\'}]\\' for run ID=\\'8946cc2aec5641d4af65698604b867ca\\'.\")]')]\n",
      "2023/08/02 15:03:58 WARNING mlflow.utils.autologging_utils: MLflow autologging encountered a warning: \"/home/timur/.local/lib/python3.8/site-packages/mlflow/data/pandas_dataset.py:116: UserWarning: Hint: Inferred schema contains integer column(s). Integer columns in Python cannot represent missing values. If your input data contains missing values at inference time, it will be encoded as floats and will cause a schema enforcement error. The best way to avoid this problem is to infer the model schema based on a realistic data sample (training dataset) that includes missing values. Alternatively, you can declare integer columns as doubles (float64) whenever these columns may have missing values. See `Handling Integers With Missing Values <https://www.mlflow.org/docs/latest/models.html#handling-integers-with-missing-values>`_ for more details.\"\n",
      "2023/08/02 15:04:03 WARNING mlflow.utils.autologging_utils: MLflow autologging encountered a warning: \"/home/timur/.local/lib/python3.8/site-packages/mlflow/models/signature.py:152: UserWarning: Hint: Inferred schema contains integer column(s). Integer columns in Python cannot represent missing values. If your input data contains missing values at inference time, it will be encoded as floats and will cause a schema enforcement error. The best way to avoid this problem is to infer the model schema based on a realistic data sample (training dataset) that includes missing values. Alternatively, you can declare integer columns as doubles (float64) whenever these columns may have missing values. See `Handling Integers With Missing Values <https://www.mlflow.org/docs/latest/models.html#handling-integers-with-missing-values>`_ for more details.\"\n",
      "2023/08/02 15:04:04 WARNING mlflow.models.model: Logging model metadata to the tracking server has failed. The model artifacts have been logged successfully under /home/timur/work_hub/mlops_zoomcamp2023/Final_project/mlruns/1/8946cc2aec5641d4af65698604b867ca/artifacts. Set logging level to DEBUG via `logging.getLogger(\"mlflow\").setLevel(logging.DEBUG)` to see the full traceback.\n",
      "2023/08/02 15:04:05 WARNING mlflow.utils.autologging_utils: Encountered unexpected error during sklearn autologging: The following failures occurred while performing one or more logging operations: [MlflowException('Failed to perform one or more operations on the run with ID 8946cc2aec5641d4af65698604b867ca. Failed operations: [MlflowException(\"Changing param values is not allowed. Params were already logged=\\'[{\\'key\\': \\'min_samples_split\\', \\'old_value\\': \\'100\\', \\'new_value\\': \\'50\\'}, {\\'key\\': \\'n_estimators\\', \\'old_value\\': \\'100\\', \\'new_value\\': \\'200\\'}]\\' for run ID=\\'8946cc2aec5641d4af65698604b867ca\\'.\")]')]\n"
     ]
    },
    {
     "name": "stderr",
     "output_type": "stream",
     "text": [
      "2023/08/02 15:04:05 WARNING mlflow.utils.autologging_utils: MLflow autologging encountered a warning: \"/home/timur/.local/lib/python3.8/site-packages/mlflow/data/pandas_dataset.py:116: UserWarning: Hint: Inferred schema contains integer column(s). Integer columns in Python cannot represent missing values. If your input data contains missing values at inference time, it will be encoded as floats and will cause a schema enforcement error. The best way to avoid this problem is to infer the model schema based on a realistic data sample (training dataset) that includes missing values. Alternatively, you can declare integer columns as doubles (float64) whenever these columns may have missing values. See `Handling Integers With Missing Values <https://www.mlflow.org/docs/latest/models.html#handling-integers-with-missing-values>`_ for more details.\"\n",
      "2023/08/02 15:04:09 WARNING mlflow.utils.autologging_utils: MLflow autologging encountered a warning: \"/home/timur/.local/lib/python3.8/site-packages/mlflow/models/signature.py:152: UserWarning: Hint: Inferred schema contains integer column(s). Integer columns in Python cannot represent missing values. If your input data contains missing values at inference time, it will be encoded as floats and will cause a schema enforcement error. The best way to avoid this problem is to infer the model schema based on a realistic data sample (training dataset) that includes missing values. Alternatively, you can declare integer columns as doubles (float64) whenever these columns may have missing values. See `Handling Integers With Missing Values <https://www.mlflow.org/docs/latest/models.html#handling-integers-with-missing-values>`_ for more details.\"\n",
      "2023/08/02 15:04:11 WARNING mlflow.models.model: Logging model metadata to the tracking server has failed. The model artifacts have been logged successfully under /home/timur/work_hub/mlops_zoomcamp2023/Final_project/mlruns/1/8946cc2aec5641d4af65698604b867ca/artifacts. Set logging level to DEBUG via `logging.getLogger(\"mlflow\").setLevel(logging.DEBUG)` to see the full traceback.\n",
      "2023/08/02 15:04:11 WARNING mlflow.utils.autologging_utils: Encountered unexpected error during sklearn autologging: The following failures occurred while performing one or more logging operations: [MlflowException('Failed to perform one or more operations on the run with ID 8946cc2aec5641d4af65698604b867ca. Failed operations: [MlflowException(\"Changing param values is not allowed. Params were already logged=\\'[{\\'key\\': \\'min_samples_split\\', \\'old_value\\': \\'100\\', \\'new_value\\': \\'50\\'}, {\\'key\\': \\'n_estimators\\', \\'old_value\\': \\'100\\', \\'new_value\\': \\'200\\'}]\\' for run ID=\\'8946cc2aec5641d4af65698604b867ca\\'.\")]')]\n",
      "2023/08/02 15:04:11 WARNING mlflow.utils.autologging_utils: MLflow autologging encountered a warning: \"/home/timur/.local/lib/python3.8/site-packages/mlflow/data/pandas_dataset.py:116: UserWarning: Hint: Inferred schema contains integer column(s). Integer columns in Python cannot represent missing values. If your input data contains missing values at inference time, it will be encoded as floats and will cause a schema enforcement error. The best way to avoid this problem is to infer the model schema based on a realistic data sample (training dataset) that includes missing values. Alternatively, you can declare integer columns as doubles (float64) whenever these columns may have missing values. See `Handling Integers With Missing Values <https://www.mlflow.org/docs/latest/models.html#handling-integers-with-missing-values>`_ for more details.\"\n",
      "2023/08/02 15:04:16 WARNING mlflow.utils.autologging_utils: MLflow autologging encountered a warning: \"/home/timur/.local/lib/python3.8/site-packages/mlflow/models/signature.py:152: UserWarning: Hint: Inferred schema contains integer column(s). Integer columns in Python cannot represent missing values. If your input data contains missing values at inference time, it will be encoded as floats and will cause a schema enforcement error. The best way to avoid this problem is to infer the model schema based on a realistic data sample (training dataset) that includes missing values. Alternatively, you can declare integer columns as doubles (float64) whenever these columns may have missing values. See `Handling Integers With Missing Values <https://www.mlflow.org/docs/latest/models.html#handling-integers-with-missing-values>`_ for more details.\"\n",
      "2023/08/02 15:04:18 WARNING mlflow.models.model: Logging model metadata to the tracking server has failed. The model artifacts have been logged successfully under /home/timur/work_hub/mlops_zoomcamp2023/Final_project/mlruns/1/8946cc2aec5641d4af65698604b867ca/artifacts. Set logging level to DEBUG via `logging.getLogger(\"mlflow\").setLevel(logging.DEBUG)` to see the full traceback.\n",
      "2023/08/02 15:04:18 WARNING mlflow.utils.autologging_utils: Encountered unexpected error during sklearn autologging: The following failures occurred while performing one or more logging operations: [MlflowException('Failed to perform one or more operations on the run with ID 8946cc2aec5641d4af65698604b867ca. Failed operations: [MlflowException(\"Changing param values is not allowed. Params were already logged=\\'[{\\'key\\': \\'min_samples_split\\', \\'old_value\\': \\'100\\', \\'new_value\\': \\'50\\'}, {\\'key\\': \\'n_estimators\\', \\'old_value\\': \\'100\\', \\'new_value\\': \\'200\\'}]\\' for run ID=\\'8946cc2aec5641d4af65698604b867ca\\'.\")]')]\n",
      "2023/08/02 15:04:19 WARNING mlflow.utils.autologging_utils: MLflow autologging encountered a warning: \"/home/timur/.local/lib/python3.8/site-packages/mlflow/data/pandas_dataset.py:116: UserWarning: Hint: Inferred schema contains integer column(s). Integer columns in Python cannot represent missing values. If your input data contains missing values at inference time, it will be encoded as floats and will cause a schema enforcement error. The best way to avoid this problem is to infer the model schema based on a realistic data sample (training dataset) that includes missing values. Alternatively, you can declare integer columns as doubles (float64) whenever these columns may have missing values. See `Handling Integers With Missing Values <https://www.mlflow.org/docs/latest/models.html#handling-integers-with-missing-values>`_ for more details.\"\n",
      "2023/08/02 15:04:24 WARNING mlflow.utils.autologging_utils: MLflow autologging encountered a warning: \"/home/timur/.local/lib/python3.8/site-packages/mlflow/models/signature.py:152: UserWarning: Hint: Inferred schema contains integer column(s). Integer columns in Python cannot represent missing values. If your input data contains missing values at inference time, it will be encoded as floats and will cause a schema enforcement error. The best way to avoid this problem is to infer the model schema based on a realistic data sample (training dataset) that includes missing values. Alternatively, you can declare integer columns as doubles (float64) whenever these columns may have missing values. See `Handling Integers With Missing Values <https://www.mlflow.org/docs/latest/models.html#handling-integers-with-missing-values>`_ for more details.\"\n",
      "2023/08/02 15:04:26 WARNING mlflow.models.model: Logging model metadata to the tracking server has failed. The model artifacts have been logged successfully under /home/timur/work_hub/mlops_zoomcamp2023/Final_project/mlruns/1/8946cc2aec5641d4af65698604b867ca/artifacts. Set logging level to DEBUG via `logging.getLogger(\"mlflow\").setLevel(logging.DEBUG)` to see the full traceback.\n",
      "2023/08/02 15:04:26 WARNING mlflow.utils.autologging_utils: Encountered unexpected error during sklearn autologging: The following failures occurred while performing one or more logging operations: [MlflowException('Failed to perform one or more operations on the run with ID 8946cc2aec5641d4af65698604b867ca. Failed operations: [MlflowException(\"Changing param values is not allowed. Params were already logged=\\'[{\\'key\\': \\'min_samples_split\\', \\'old_value\\': \\'100\\', \\'new_value\\': \\'50\\'}, {\\'key\\': \\'n_estimators\\', \\'old_value\\': \\'100\\', \\'new_value\\': \\'200\\'}]\\' for run ID=\\'8946cc2aec5641d4af65698604b867ca\\'.\")]')]\n",
      "2023/08/02 15:04:26 WARNING mlflow.utils.autologging_utils: MLflow autologging encountered a warning: \"/home/timur/.local/lib/python3.8/site-packages/mlflow/data/pandas_dataset.py:116: UserWarning: Hint: Inferred schema contains integer column(s). Integer columns in Python cannot represent missing values. If your input data contains missing values at inference time, it will be encoded as floats and will cause a schema enforcement error. The best way to avoid this problem is to infer the model schema based on a realistic data sample (training dataset) that includes missing values. Alternatively, you can declare integer columns as doubles (float64) whenever these columns may have missing values. See `Handling Integers With Missing Values <https://www.mlflow.org/docs/latest/models.html#handling-integers-with-missing-values>`_ for more details.\"\n"
     ]
    },
    {
     "name": "stderr",
     "output_type": "stream",
     "text": [
      "2023/08/02 15:04:31 WARNING mlflow.utils.autologging_utils: MLflow autologging encountered a warning: \"/home/timur/.local/lib/python3.8/site-packages/mlflow/models/signature.py:152: UserWarning: Hint: Inferred schema contains integer column(s). Integer columns in Python cannot represent missing values. If your input data contains missing values at inference time, it will be encoded as floats and will cause a schema enforcement error. The best way to avoid this problem is to infer the model schema based on a realistic data sample (training dataset) that includes missing values. Alternatively, you can declare integer columns as doubles (float64) whenever these columns may have missing values. See `Handling Integers With Missing Values <https://www.mlflow.org/docs/latest/models.html#handling-integers-with-missing-values>`_ for more details.\"\n",
      "2023/08/02 15:04:33 WARNING mlflow.models.model: Logging model metadata to the tracking server has failed. The model artifacts have been logged successfully under /home/timur/work_hub/mlops_zoomcamp2023/Final_project/mlruns/1/8946cc2aec5641d4af65698604b867ca/artifacts. Set logging level to DEBUG via `logging.getLogger(\"mlflow\").setLevel(logging.DEBUG)` to see the full traceback.\n",
      "2023/08/02 15:04:33 WARNING mlflow.utils.autologging_utils: Encountered unexpected error during sklearn autologging: The following failures occurred while performing one or more logging operations: [MlflowException('Failed to perform one or more operations on the run with ID 8946cc2aec5641d4af65698604b867ca. Failed operations: [MlflowException(\"Changing param values is not allowed. Params were already logged=\\'[{\\'key\\': \\'min_samples_split\\', \\'old_value\\': \\'100\\', \\'new_value\\': \\'50\\'}, {\\'key\\': \\'n_estimators\\', \\'old_value\\': \\'100\\', \\'new_value\\': \\'200\\'}]\\' for run ID=\\'8946cc2aec5641d4af65698604b867ca\\'.\")]')]\n",
      "2023/08/02 15:04:33 WARNING mlflow.utils.autologging_utils: MLflow autologging encountered a warning: \"/home/timur/.local/lib/python3.8/site-packages/mlflow/data/pandas_dataset.py:116: UserWarning: Hint: Inferred schema contains integer column(s). Integer columns in Python cannot represent missing values. If your input data contains missing values at inference time, it will be encoded as floats and will cause a schema enforcement error. The best way to avoid this problem is to infer the model schema based on a realistic data sample (training dataset) that includes missing values. Alternatively, you can declare integer columns as doubles (float64) whenever these columns may have missing values. See `Handling Integers With Missing Values <https://www.mlflow.org/docs/latest/models.html#handling-integers-with-missing-values>`_ for more details.\"\n",
      "2023/08/02 15:04:38 WARNING mlflow.utils.autologging_utils: MLflow autologging encountered a warning: \"/home/timur/.local/lib/python3.8/site-packages/mlflow/models/signature.py:152: UserWarning: Hint: Inferred schema contains integer column(s). Integer columns in Python cannot represent missing values. If your input data contains missing values at inference time, it will be encoded as floats and will cause a schema enforcement error. The best way to avoid this problem is to infer the model schema based on a realistic data sample (training dataset) that includes missing values. Alternatively, you can declare integer columns as doubles (float64) whenever these columns may have missing values. See `Handling Integers With Missing Values <https://www.mlflow.org/docs/latest/models.html#handling-integers-with-missing-values>`_ for more details.\"\n",
      "2023/08/02 15:04:40 WARNING mlflow.models.model: Logging model metadata to the tracking server has failed. The model artifacts have been logged successfully under /home/timur/work_hub/mlops_zoomcamp2023/Final_project/mlruns/1/8946cc2aec5641d4af65698604b867ca/artifacts. Set logging level to DEBUG via `logging.getLogger(\"mlflow\").setLevel(logging.DEBUG)` to see the full traceback.\n",
      "2023/08/02 15:04:40 WARNING mlflow.utils.autologging_utils: Encountered unexpected error during sklearn autologging: The following failures occurred while performing one or more logging operations: [MlflowException('Failed to perform one or more operations on the run with ID 8946cc2aec5641d4af65698604b867ca. Failed operations: [MlflowException(\"Changing param values is not allowed. Params were already logged=\\'[{\\'key\\': \\'min_samples_split\\', \\'old_value\\': \\'100\\', \\'new_value\\': \\'50\\'}, {\\'key\\': \\'n_estimators\\', \\'old_value\\': \\'100\\', \\'new_value\\': \\'200\\'}]\\' for run ID=\\'8946cc2aec5641d4af65698604b867ca\\'.\")]')]\n",
      "2023/08/02 15:04:40 WARNING mlflow.utils.autologging_utils: MLflow autologging encountered a warning: \"/home/timur/.local/lib/python3.8/site-packages/mlflow/data/pandas_dataset.py:116: UserWarning: Hint: Inferred schema contains integer column(s). Integer columns in Python cannot represent missing values. If your input data contains missing values at inference time, it will be encoded as floats and will cause a schema enforcement error. The best way to avoid this problem is to infer the model schema based on a realistic data sample (training dataset) that includes missing values. Alternatively, you can declare integer columns as doubles (float64) whenever these columns may have missing values. See `Handling Integers With Missing Values <https://www.mlflow.org/docs/latest/models.html#handling-integers-with-missing-values>`_ for more details.\"\n",
      "2023/08/02 15:04:46 WARNING mlflow.utils.autologging_utils: MLflow autologging encountered a warning: \"/home/timur/.local/lib/python3.8/site-packages/mlflow/models/signature.py:152: UserWarning: Hint: Inferred schema contains integer column(s). Integer columns in Python cannot represent missing values. If your input data contains missing values at inference time, it will be encoded as floats and will cause a schema enforcement error. The best way to avoid this problem is to infer the model schema based on a realistic data sample (training dataset) that includes missing values. Alternatively, you can declare integer columns as doubles (float64) whenever these columns may have missing values. See `Handling Integers With Missing Values <https://www.mlflow.org/docs/latest/models.html#handling-integers-with-missing-values>`_ for more details.\"\n",
      "2023/08/02 15:04:48 WARNING mlflow.models.model: Logging model metadata to the tracking server has failed. The model artifacts have been logged successfully under /home/timur/work_hub/mlops_zoomcamp2023/Final_project/mlruns/1/8946cc2aec5641d4af65698604b867ca/artifacts. Set logging level to DEBUG via `logging.getLogger(\"mlflow\").setLevel(logging.DEBUG)` to see the full traceback.\n",
      "2023/08/02 15:04:48 WARNING mlflow.utils.autologging_utils: Encountered unexpected error during sklearn autologging: The following failures occurred while performing one or more logging operations: [MlflowException('Failed to perform one or more operations on the run with ID 8946cc2aec5641d4af65698604b867ca. Failed operations: [MlflowException(\"Changing param values is not allowed. Params were already logged=\\'[{\\'key\\': \\'min_samples_split\\', \\'old_value\\': \\'100\\', \\'new_value\\': \\'50\\'}, {\\'key\\': \\'n_estimators\\', \\'old_value\\': \\'100\\', \\'new_value\\': \\'200\\'}]\\' for run ID=\\'8946cc2aec5641d4af65698604b867ca\\'.\")]')]\n",
      "2023/08/02 15:04:48 WARNING mlflow.utils.autologging_utils: MLflow autologging encountered a warning: \"/home/timur/.local/lib/python3.8/site-packages/mlflow/data/pandas_dataset.py:116: UserWarning: Hint: Inferred schema contains integer column(s). Integer columns in Python cannot represent missing values. If your input data contains missing values at inference time, it will be encoded as floats and will cause a schema enforcement error. The best way to avoid this problem is to infer the model schema based on a realistic data sample (training dataset) that includes missing values. Alternatively, you can declare integer columns as doubles (float64) whenever these columns may have missing values. See `Handling Integers With Missing Values <https://www.mlflow.org/docs/latest/models.html#handling-integers-with-missing-values>`_ for more details.\"\n",
      "2023/08/02 15:04:53 WARNING mlflow.utils.autologging_utils: MLflow autologging encountered a warning: \"/home/timur/.local/lib/python3.8/site-packages/mlflow/models/signature.py:152: UserWarning: Hint: Inferred schema contains integer column(s). Integer columns in Python cannot represent missing values. If your input data contains missing values at inference time, it will be encoded as floats and will cause a schema enforcement error. The best way to avoid this problem is to infer the model schema based on a realistic data sample (training dataset) that includes missing values. Alternatively, you can declare integer columns as doubles (float64) whenever these columns may have missing values. See `Handling Integers With Missing Values <https://www.mlflow.org/docs/latest/models.html#handling-integers-with-missing-values>`_ for more details.\"\n"
     ]
    },
    {
     "name": "stderr",
     "output_type": "stream",
     "text": [
      "2023/08/02 15:04:55 WARNING mlflow.models.model: Logging model metadata to the tracking server has failed. The model artifacts have been logged successfully under /home/timur/work_hub/mlops_zoomcamp2023/Final_project/mlruns/1/8946cc2aec5641d4af65698604b867ca/artifacts. Set logging level to DEBUG via `logging.getLogger(\"mlflow\").setLevel(logging.DEBUG)` to see the full traceback.\n",
      "2023/08/02 15:04:55 WARNING mlflow.utils.autologging_utils: Encountered unexpected error during sklearn autologging: The following failures occurred while performing one or more logging operations: [MlflowException('Failed to perform one or more operations on the run with ID 8946cc2aec5641d4af65698604b867ca. Failed operations: [MlflowException(\"Changing param values is not allowed. Params were already logged=\\'[{\\'key\\': \\'min_samples_split\\', \\'old_value\\': \\'100\\', \\'new_value\\': \\'50\\'}, {\\'key\\': \\'n_estimators\\', \\'old_value\\': \\'100\\', \\'new_value\\': \\'200\\'}]\\' for run ID=\\'8946cc2aec5641d4af65698604b867ca\\'.\")]')]\n",
      "2023/08/02 15:04:55 WARNING mlflow.utils.autologging_utils: MLflow autologging encountered a warning: \"/home/timur/.local/lib/python3.8/site-packages/mlflow/data/pandas_dataset.py:116: UserWarning: Hint: Inferred schema contains integer column(s). Integer columns in Python cannot represent missing values. If your input data contains missing values at inference time, it will be encoded as floats and will cause a schema enforcement error. The best way to avoid this problem is to infer the model schema based on a realistic data sample (training dataset) that includes missing values. Alternatively, you can declare integer columns as doubles (float64) whenever these columns may have missing values. See `Handling Integers With Missing Values <https://www.mlflow.org/docs/latest/models.html#handling-integers-with-missing-values>`_ for more details.\"\n",
      "2023/08/02 15:05:00 WARNING mlflow.utils.autologging_utils: MLflow autologging encountered a warning: \"/home/timur/.local/lib/python3.8/site-packages/mlflow/models/signature.py:152: UserWarning: Hint: Inferred schema contains integer column(s). Integer columns in Python cannot represent missing values. If your input data contains missing values at inference time, it will be encoded as floats and will cause a schema enforcement error. The best way to avoid this problem is to infer the model schema based on a realistic data sample (training dataset) that includes missing values. Alternatively, you can declare integer columns as doubles (float64) whenever these columns may have missing values. See `Handling Integers With Missing Values <https://www.mlflow.org/docs/latest/models.html#handling-integers-with-missing-values>`_ for more details.\"\n",
      "2023/08/02 15:05:02 WARNING mlflow.models.model: Logging model metadata to the tracking server has failed. The model artifacts have been logged successfully under /home/timur/work_hub/mlops_zoomcamp2023/Final_project/mlruns/1/8946cc2aec5641d4af65698604b867ca/artifacts. Set logging level to DEBUG via `logging.getLogger(\"mlflow\").setLevel(logging.DEBUG)` to see the full traceback.\n",
      "2023/08/02 15:05:02 WARNING mlflow.utils.autologging_utils: Encountered unexpected error during sklearn autologging: The following failures occurred while performing one or more logging operations: [MlflowException('Failed to perform one or more operations on the run with ID 8946cc2aec5641d4af65698604b867ca. Failed operations: [MlflowException(\"Changing param values is not allowed. Params were already logged=\\'[{\\'key\\': \\'min_samples_split\\', \\'old_value\\': \\'100\\', \\'new_value\\': \\'50\\'}, {\\'key\\': \\'n_estimators\\', \\'old_value\\': \\'100\\', \\'new_value\\': \\'200\\'}]\\' for run ID=\\'8946cc2aec5641d4af65698604b867ca\\'.\")]')]\n",
      "2023/08/02 15:05:03 WARNING mlflow.utils.autologging_utils: MLflow autologging encountered a warning: \"/home/timur/.local/lib/python3.8/site-packages/mlflow/data/pandas_dataset.py:116: UserWarning: Hint: Inferred schema contains integer column(s). Integer columns in Python cannot represent missing values. If your input data contains missing values at inference time, it will be encoded as floats and will cause a schema enforcement error. The best way to avoid this problem is to infer the model schema based on a realistic data sample (training dataset) that includes missing values. Alternatively, you can declare integer columns as doubles (float64) whenever these columns may have missing values. See `Handling Integers With Missing Values <https://www.mlflow.org/docs/latest/models.html#handling-integers-with-missing-values>`_ for more details.\"\n",
      "2023/08/02 15:05:08 WARNING mlflow.utils.autologging_utils: MLflow autologging encountered a warning: \"/home/timur/.local/lib/python3.8/site-packages/mlflow/models/signature.py:152: UserWarning: Hint: Inferred schema contains integer column(s). Integer columns in Python cannot represent missing values. If your input data contains missing values at inference time, it will be encoded as floats and will cause a schema enforcement error. The best way to avoid this problem is to infer the model schema based on a realistic data sample (training dataset) that includes missing values. Alternatively, you can declare integer columns as doubles (float64) whenever these columns may have missing values. See `Handling Integers With Missing Values <https://www.mlflow.org/docs/latest/models.html#handling-integers-with-missing-values>`_ for more details.\"\n",
      "2023/08/02 15:05:10 WARNING mlflow.models.model: Logging model metadata to the tracking server has failed. The model artifacts have been logged successfully under /home/timur/work_hub/mlops_zoomcamp2023/Final_project/mlruns/1/8946cc2aec5641d4af65698604b867ca/artifacts. Set logging level to DEBUG via `logging.getLogger(\"mlflow\").setLevel(logging.DEBUG)` to see the full traceback.\n",
      "2023/08/02 15:05:10 WARNING mlflow.utils.autologging_utils: Encountered unexpected error during sklearn autologging: The following failures occurred while performing one or more logging operations: [MlflowException('Failed to perform one or more operations on the run with ID 8946cc2aec5641d4af65698604b867ca. Failed operations: [MlflowException(\"Changing param values is not allowed. Params were already logged=\\'[{\\'key\\': \\'min_samples_split\\', \\'old_value\\': \\'100\\', \\'new_value\\': \\'50\\'}, {\\'key\\': \\'n_estimators\\', \\'old_value\\': \\'100\\', \\'new_value\\': \\'200\\'}]\\' for run ID=\\'8946cc2aec5641d4af65698604b867ca\\'.\")]')]\n",
      "2023/08/02 15:05:10 WARNING mlflow.utils.autologging_utils: MLflow autologging encountered a warning: \"/home/timur/.local/lib/python3.8/site-packages/mlflow/data/pandas_dataset.py:116: UserWarning: Hint: Inferred schema contains integer column(s). Integer columns in Python cannot represent missing values. If your input data contains missing values at inference time, it will be encoded as floats and will cause a schema enforcement error. The best way to avoid this problem is to infer the model schema based on a realistic data sample (training dataset) that includes missing values. Alternatively, you can declare integer columns as doubles (float64) whenever these columns may have missing values. See `Handling Integers With Missing Values <https://www.mlflow.org/docs/latest/models.html#handling-integers-with-missing-values>`_ for more details.\"\n",
      "2023/08/02 15:05:15 WARNING mlflow.utils.autologging_utils: MLflow autologging encountered a warning: \"/home/timur/.local/lib/python3.8/site-packages/mlflow/models/signature.py:152: UserWarning: Hint: Inferred schema contains integer column(s). Integer columns in Python cannot represent missing values. If your input data contains missing values at inference time, it will be encoded as floats and will cause a schema enforcement error. The best way to avoid this problem is to infer the model schema based on a realistic data sample (training dataset) that includes missing values. Alternatively, you can declare integer columns as doubles (float64) whenever these columns may have missing values. See `Handling Integers With Missing Values <https://www.mlflow.org/docs/latest/models.html#handling-integers-with-missing-values>`_ for more details.\"\n",
      "2023/08/02 15:05:17 WARNING mlflow.models.model: Logging model metadata to the tracking server has failed. The model artifacts have been logged successfully under /home/timur/work_hub/mlops_zoomcamp2023/Final_project/mlruns/1/8946cc2aec5641d4af65698604b867ca/artifacts. Set logging level to DEBUG via `logging.getLogger(\"mlflow\").setLevel(logging.DEBUG)` to see the full traceback.\n"
     ]
    },
    {
     "name": "stderr",
     "output_type": "stream",
     "text": [
      "2023/08/02 15:05:17 WARNING mlflow.utils.autologging_utils: Encountered unexpected error during sklearn autologging: The following failures occurred while performing one or more logging operations: [MlflowException('Failed to perform one or more operations on the run with ID 8946cc2aec5641d4af65698604b867ca. Failed operations: [MlflowException(\"Changing param values is not allowed. Params were already logged=\\'[{\\'key\\': \\'min_samples_split\\', \\'old_value\\': \\'100\\', \\'new_value\\': \\'50\\'}, {\\'key\\': \\'n_estimators\\', \\'old_value\\': \\'100\\', \\'new_value\\': \\'200\\'}]\\' for run ID=\\'8946cc2aec5641d4af65698604b867ca\\'.\")]')]\n",
      "2023/08/02 15:05:17 WARNING mlflow.utils.autologging_utils: MLflow autologging encountered a warning: \"/home/timur/.local/lib/python3.8/site-packages/mlflow/data/pandas_dataset.py:116: UserWarning: Hint: Inferred schema contains integer column(s). Integer columns in Python cannot represent missing values. If your input data contains missing values at inference time, it will be encoded as floats and will cause a schema enforcement error. The best way to avoid this problem is to infer the model schema based on a realistic data sample (training dataset) that includes missing values. Alternatively, you can declare integer columns as doubles (float64) whenever these columns may have missing values. See `Handling Integers With Missing Values <https://www.mlflow.org/docs/latest/models.html#handling-integers-with-missing-values>`_ for more details.\"\n",
      "2023/08/02 15:05:25 WARNING mlflow.utils.autologging_utils: MLflow autologging encountered a warning: \"/home/timur/.local/lib/python3.8/site-packages/mlflow/models/signature.py:152: UserWarning: Hint: Inferred schema contains integer column(s). Integer columns in Python cannot represent missing values. If your input data contains missing values at inference time, it will be encoded as floats and will cause a schema enforcement error. The best way to avoid this problem is to infer the model schema based on a realistic data sample (training dataset) that includes missing values. Alternatively, you can declare integer columns as doubles (float64) whenever these columns may have missing values. See `Handling Integers With Missing Values <https://www.mlflow.org/docs/latest/models.html#handling-integers-with-missing-values>`_ for more details.\"\n",
      "2023/08/02 15:05:28 WARNING mlflow.models.model: Logging model metadata to the tracking server has failed. The model artifacts have been logged successfully under /home/timur/work_hub/mlops_zoomcamp2023/Final_project/mlruns/1/8946cc2aec5641d4af65698604b867ca/artifacts. Set logging level to DEBUG via `logging.getLogger(\"mlflow\").setLevel(logging.DEBUG)` to see the full traceback.\n",
      "2023/08/02 15:05:28 WARNING mlflow.utils.autologging_utils: Encountered unexpected error during sklearn autologging: The following failures occurred while performing one or more logging operations: [MlflowException('Failed to perform one or more operations on the run with ID 8946cc2aec5641d4af65698604b867ca. Failed operations: [MlflowException(\"Changing param values is not allowed. Params were already logged=\\'[{\\'key\\': \\'min_samples_split\\', \\'old_value\\': \\'100\\', \\'new_value\\': \\'50\\'}, {\\'key\\': \\'n_estimators\\', \\'old_value\\': \\'100\\', \\'new_value\\': \\'200\\'}]\\' for run ID=\\'8946cc2aec5641d4af65698604b867ca\\'.\")]')]\n",
      "2023/08/02 15:05:29 WARNING mlflow.utils.autologging_utils: MLflow autologging encountered a warning: \"/home/timur/.local/lib/python3.8/site-packages/mlflow/data/pandas_dataset.py:116: UserWarning: Hint: Inferred schema contains integer column(s). Integer columns in Python cannot represent missing values. If your input data contains missing values at inference time, it will be encoded as floats and will cause a schema enforcement error. The best way to avoid this problem is to infer the model schema based on a realistic data sample (training dataset) that includes missing values. Alternatively, you can declare integer columns as doubles (float64) whenever these columns may have missing values. See `Handling Integers With Missing Values <https://www.mlflow.org/docs/latest/models.html#handling-integers-with-missing-values>`_ for more details.\"\n",
      "2023/08/02 15:05:35 WARNING mlflow.utils.autologging_utils: MLflow autologging encountered a warning: \"/home/timur/.local/lib/python3.8/site-packages/mlflow/models/signature.py:152: UserWarning: Hint: Inferred schema contains integer column(s). Integer columns in Python cannot represent missing values. If your input data contains missing values at inference time, it will be encoded as floats and will cause a schema enforcement error. The best way to avoid this problem is to infer the model schema based on a realistic data sample (training dataset) that includes missing values. Alternatively, you can declare integer columns as doubles (float64) whenever these columns may have missing values. See `Handling Integers With Missing Values <https://www.mlflow.org/docs/latest/models.html#handling-integers-with-missing-values>`_ for more details.\"\n",
      "2023/08/02 15:05:37 WARNING mlflow.models.model: Logging model metadata to the tracking server has failed. The model artifacts have been logged successfully under /home/timur/work_hub/mlops_zoomcamp2023/Final_project/mlruns/1/8946cc2aec5641d4af65698604b867ca/artifacts. Set logging level to DEBUG via `logging.getLogger(\"mlflow\").setLevel(logging.DEBUG)` to see the full traceback.\n",
      "2023/08/02 15:05:37 WARNING mlflow.utils.autologging_utils: Encountered unexpected error during sklearn autologging: The following failures occurred while performing one or more logging operations: [MlflowException('Failed to perform one or more operations on the run with ID 8946cc2aec5641d4af65698604b867ca. Failed operations: [MlflowException(\"Changing param values is not allowed. Params were already logged=\\'[{\\'key\\': \\'min_samples_split\\', \\'old_value\\': \\'100\\', \\'new_value\\': \\'50\\'}, {\\'key\\': \\'n_estimators\\', \\'old_value\\': \\'100\\', \\'new_value\\': \\'200\\'}]\\' for run ID=\\'8946cc2aec5641d4af65698604b867ca\\'.\")]')]\n",
      "2023/08/02 15:05:38 WARNING mlflow.utils.autologging_utils: MLflow autologging encountered a warning: \"/home/timur/.local/lib/python3.8/site-packages/mlflow/data/pandas_dataset.py:116: UserWarning: Hint: Inferred schema contains integer column(s). Integer columns in Python cannot represent missing values. If your input data contains missing values at inference time, it will be encoded as floats and will cause a schema enforcement error. The best way to avoid this problem is to infer the model schema based on a realistic data sample (training dataset) that includes missing values. Alternatively, you can declare integer columns as doubles (float64) whenever these columns may have missing values. See `Handling Integers With Missing Values <https://www.mlflow.org/docs/latest/models.html#handling-integers-with-missing-values>`_ for more details.\"\n",
      "2023/08/02 15:05:44 WARNING mlflow.utils.autologging_utils: MLflow autologging encountered a warning: \"/home/timur/.local/lib/python3.8/site-packages/mlflow/models/signature.py:152: UserWarning: Hint: Inferred schema contains integer column(s). Integer columns in Python cannot represent missing values. If your input data contains missing values at inference time, it will be encoded as floats and will cause a schema enforcement error. The best way to avoid this problem is to infer the model schema based on a realistic data sample (training dataset) that includes missing values. Alternatively, you can declare integer columns as doubles (float64) whenever these columns may have missing values. See `Handling Integers With Missing Values <https://www.mlflow.org/docs/latest/models.html#handling-integers-with-missing-values>`_ for more details.\"\n",
      "2023/08/02 15:05:46 WARNING mlflow.models.model: Logging model metadata to the tracking server has failed. The model artifacts have been logged successfully under /home/timur/work_hub/mlops_zoomcamp2023/Final_project/mlruns/1/8946cc2aec5641d4af65698604b867ca/artifacts. Set logging level to DEBUG via `logging.getLogger(\"mlflow\").setLevel(logging.DEBUG)` to see the full traceback.\n",
      "2023/08/02 15:05:46 WARNING mlflow.utils.autologging_utils: Encountered unexpected error during sklearn autologging: The following failures occurred while performing one or more logging operations: [MlflowException('Failed to perform one or more operations on the run with ID 8946cc2aec5641d4af65698604b867ca. Failed operations: [MlflowException(\"Changing param values is not allowed. Params were already logged=\\'[{\\'key\\': \\'min_samples_split\\', \\'old_value\\': \\'100\\', \\'new_value\\': \\'50\\'}, {\\'key\\': \\'n_estimators\\', \\'old_value\\': \\'100\\', \\'new_value\\': \\'200\\'}]\\' for run ID=\\'8946cc2aec5641d4af65698604b867ca\\'.\")]')]\n"
     ]
    }
   ],
   "source": [
    "with mlflow.start_run():\n",
    "    \n",
    "    mlflow.set_tag('developer', 'Timur')\n",
    "    mlflow.set_tag('model', 'RandomForestClassifier')\n",
    "    mlflow.set_tag('type', 'with_backtesting')\n",
    "    \n",
    "    mlflow.log_param('train-data-path', '/home/timur/work_hub/mlops_zoomcamp2023/Final_project/Data/train_data.csv')\n",
    "    mlflow.log_param('test-data-path', '/home/timur/work_hub/mlops_zoomcamp2023/Final_project/Data/test_data.csv')\n",
    "    \n",
    "    n_estimators = 100\n",
    "    min_samples_split = 100\n",
    "    random_state = 1\n",
    "\n",
    "    mlflow.log_param('n_estimators', n_estimators)\n",
    "    mlflow.log_param('min_samples_split', min_samples_split)\n",
    "    mlflow.log_param('random_state', random_state)\n",
    "    \n",
    "    predictions = backtest(sp500, model_1, features)                 \n",
    "    accuracy = precision_score(predictions['Target'], predictions['Predictions'])\n",
    "    mlflow.log_metric('accuracy', accuracy)\n",
    "\n",
    "    with open('/home/timur/work_hub/mlops_zoomcamp2023/Final_project/Models/preprocessor.b', 'wb') as f_out:\n",
    "        pickle.dump(model_1, f_out)\n",
    "    mlflow.log_artifact(\"/home/timur/work_hub/mlops_zoomcamp2023/Final_project/Models/preprocessor.b\", artifact_path='preprocessor')\n",
    "    mlflow.sklearn.log_model(model_1, artifact_path=None)"
   ]
  },
  {
   "cell_type": "markdown",
   "id": "11eb7f47",
   "metadata": {},
   "source": [
    "#### We get result. It's shows us that when we predict that market go up it was true in 53% cases"
   ]
  },
  {
   "cell_type": "markdown",
   "id": "d9c5f1fe",
   "metadata": {},
   "source": [
    "#### As a benchmark we can look at how actually sp500 run out"
   ]
  },
  {
   "cell_type": "code",
   "execution_count": 37,
   "id": "4d30fe03",
   "metadata": {},
   "outputs": [
    {
     "data": {
      "text/plain": [
       "Target\n",
       "1    0.534228\n",
       "0    0.465772\n",
       "Name: count, dtype: float64"
      ]
     },
     "execution_count": 37,
     "metadata": {},
     "output_type": "execute_result"
    }
   ],
   "source": [
    "predictions['Target'].value_counts() / predictions.shape[0]"
   ]
  },
  {
   "cell_type": "markdown",
   "id": "e4bcbb95",
   "metadata": {},
   "source": [
    "This result shows us that 53% times sp500 goes up and 46% time goes down"
   ]
  },
  {
   "cell_type": "markdown",
   "id": "32ee1202",
   "metadata": {},
   "source": [
    "#### Add new features"
   ]
  },
  {
   "cell_type": "markdown",
   "id": "2336c77e",
   "metadata": {},
   "source": [
    "Let's add more predictors for improvement our model\n",
    "\n",
    "\n",
    "We calculate mean price for the last 2, 5, 60, 250, 1000 trading days and compare with current price.Thus we give our algoritms more information for better prediction"
   ]
  },
  {
   "cell_type": "markdown",
   "id": "ac5ff7c6",
   "metadata": {},
   "source": [
    "  "
   ]
  },
  {
   "cell_type": "code",
   "execution_count": 38,
   "id": "5215a53f",
   "metadata": {},
   "outputs": [],
   "source": [
    "horizons = [2, 5, 60, 250, 1000]"
   ]
  },
  {
   "cell_type": "code",
   "execution_count": 39,
   "id": "52c2a9f1",
   "metadata": {},
   "outputs": [],
   "source": [
    "new_predictors = []\n",
    "\n",
    "for horizon in horizons:\n",
    "    # calculate rolling average\n",
    "    rolling_averages = sp500.rolling(horizon).mean() \n",
    "    ratio_column = f'Close_Ration_{horizon}'\n",
    "    # ratio between today close price and 2, 5, 60, 250, 1000 trading days\n",
    "    sp500[ratio_column] = sp500['Close'] / rolling_averages['Close'] \n",
    "    \n",
    "    trend_column = f'Trend_{horizon}'\n",
    "    sp500[trend_column] = sp500.shift(1).rolling(horizon).sum()['Target']\n",
    "    \n",
    "    new_predictors += [ratio_column, trend_column]\n",
    "    "
   ]
  },
  {
   "cell_type": "code",
   "execution_count": 40,
   "id": "8b6488f5",
   "metadata": {},
   "outputs": [
    {
     "data": {
      "text/html": [
       "<div>\n",
       "<style scoped>\n",
       "    .dataframe tbody tr th:only-of-type {\n",
       "        vertical-align: middle;\n",
       "    }\n",
       "\n",
       "    .dataframe tbody tr th {\n",
       "        vertical-align: top;\n",
       "    }\n",
       "\n",
       "    .dataframe thead th {\n",
       "        text-align: right;\n",
       "    }\n",
       "</style>\n",
       "<table border=\"1\" class=\"dataframe\">\n",
       "  <thead>\n",
       "    <tr style=\"text-align: right;\">\n",
       "      <th></th>\n",
       "      <th>Open</th>\n",
       "      <th>High</th>\n",
       "      <th>Low</th>\n",
       "      <th>Close</th>\n",
       "      <th>Volume</th>\n",
       "      <th>Tomorrow</th>\n",
       "      <th>Target</th>\n",
       "      <th>Close_Ration_2</th>\n",
       "      <th>Trend_2</th>\n",
       "      <th>Close_Ration_5</th>\n",
       "      <th>Trend_5</th>\n",
       "      <th>Close_Ration_60</th>\n",
       "      <th>Trend_60</th>\n",
       "      <th>Close_Ration_250</th>\n",
       "      <th>Trend_250</th>\n",
       "      <th>Close_Ration_1000</th>\n",
       "      <th>Trend_1000</th>\n",
       "    </tr>\n",
       "    <tr>\n",
       "      <th>Date</th>\n",
       "      <th></th>\n",
       "      <th></th>\n",
       "      <th></th>\n",
       "      <th></th>\n",
       "      <th></th>\n",
       "      <th></th>\n",
       "      <th></th>\n",
       "      <th></th>\n",
       "      <th></th>\n",
       "      <th></th>\n",
       "      <th></th>\n",
       "      <th></th>\n",
       "      <th></th>\n",
       "      <th></th>\n",
       "      <th></th>\n",
       "      <th></th>\n",
       "      <th></th>\n",
       "    </tr>\n",
       "  </thead>\n",
       "  <tbody>\n",
       "    <tr>\n",
       "      <th>1990-01-02 00:00:00-05:00</th>\n",
       "      <td>353.399994</td>\n",
       "      <td>359.690002</td>\n",
       "      <td>351.980011</td>\n",
       "      <td>359.690002</td>\n",
       "      <td>162070000</td>\n",
       "      <td>358.760010</td>\n",
       "      <td>0</td>\n",
       "      <td>NaN</td>\n",
       "      <td>NaN</td>\n",
       "      <td>NaN</td>\n",
       "      <td>NaN</td>\n",
       "      <td>NaN</td>\n",
       "      <td>NaN</td>\n",
       "      <td>NaN</td>\n",
       "      <td>NaN</td>\n",
       "      <td>NaN</td>\n",
       "      <td>NaN</td>\n",
       "    </tr>\n",
       "    <tr>\n",
       "      <th>1990-01-03 00:00:00-05:00</th>\n",
       "      <td>359.690002</td>\n",
       "      <td>360.589996</td>\n",
       "      <td>357.890015</td>\n",
       "      <td>358.760010</td>\n",
       "      <td>192330000</td>\n",
       "      <td>355.670013</td>\n",
       "      <td>0</td>\n",
       "      <td>0.998706</td>\n",
       "      <td>NaN</td>\n",
       "      <td>NaN</td>\n",
       "      <td>NaN</td>\n",
       "      <td>NaN</td>\n",
       "      <td>NaN</td>\n",
       "      <td>NaN</td>\n",
       "      <td>NaN</td>\n",
       "      <td>NaN</td>\n",
       "      <td>NaN</td>\n",
       "    </tr>\n",
       "    <tr>\n",
       "      <th>1990-01-04 00:00:00-05:00</th>\n",
       "      <td>358.760010</td>\n",
       "      <td>358.760010</td>\n",
       "      <td>352.890015</td>\n",
       "      <td>355.670013</td>\n",
       "      <td>177000000</td>\n",
       "      <td>352.200012</td>\n",
       "      <td>0</td>\n",
       "      <td>0.995675</td>\n",
       "      <td>0.0</td>\n",
       "      <td>NaN</td>\n",
       "      <td>NaN</td>\n",
       "      <td>NaN</td>\n",
       "      <td>NaN</td>\n",
       "      <td>NaN</td>\n",
       "      <td>NaN</td>\n",
       "      <td>NaN</td>\n",
       "      <td>NaN</td>\n",
       "    </tr>\n",
       "    <tr>\n",
       "      <th>1990-01-05 00:00:00-05:00</th>\n",
       "      <td>355.670013</td>\n",
       "      <td>355.670013</td>\n",
       "      <td>351.350006</td>\n",
       "      <td>352.200012</td>\n",
       "      <td>158530000</td>\n",
       "      <td>353.790009</td>\n",
       "      <td>1</td>\n",
       "      <td>0.995098</td>\n",
       "      <td>0.0</td>\n",
       "      <td>NaN</td>\n",
       "      <td>NaN</td>\n",
       "      <td>NaN</td>\n",
       "      <td>NaN</td>\n",
       "      <td>NaN</td>\n",
       "      <td>NaN</td>\n",
       "      <td>NaN</td>\n",
       "      <td>NaN</td>\n",
       "    </tr>\n",
       "    <tr>\n",
       "      <th>1990-01-08 00:00:00-05:00</th>\n",
       "      <td>352.200012</td>\n",
       "      <td>354.239990</td>\n",
       "      <td>350.540009</td>\n",
       "      <td>353.790009</td>\n",
       "      <td>140110000</td>\n",
       "      <td>349.619995</td>\n",
       "      <td>0</td>\n",
       "      <td>1.002252</td>\n",
       "      <td>1.0</td>\n",
       "      <td>0.993731</td>\n",
       "      <td>NaN</td>\n",
       "      <td>NaN</td>\n",
       "      <td>NaN</td>\n",
       "      <td>NaN</td>\n",
       "      <td>NaN</td>\n",
       "      <td>NaN</td>\n",
       "      <td>NaN</td>\n",
       "    </tr>\n",
       "  </tbody>\n",
       "</table>\n",
       "</div>"
      ],
      "text/plain": [
       "                                 Open        High         Low       Close  \\\n",
       "Date                                                                        \n",
       "1990-01-02 00:00:00-05:00  353.399994  359.690002  351.980011  359.690002   \n",
       "1990-01-03 00:00:00-05:00  359.690002  360.589996  357.890015  358.760010   \n",
       "1990-01-04 00:00:00-05:00  358.760010  358.760010  352.890015  355.670013   \n",
       "1990-01-05 00:00:00-05:00  355.670013  355.670013  351.350006  352.200012   \n",
       "1990-01-08 00:00:00-05:00  352.200012  354.239990  350.540009  353.790009   \n",
       "\n",
       "                              Volume    Tomorrow  Target  Close_Ration_2  \\\n",
       "Date                                                                       \n",
       "1990-01-02 00:00:00-05:00  162070000  358.760010       0             NaN   \n",
       "1990-01-03 00:00:00-05:00  192330000  355.670013       0        0.998706   \n",
       "1990-01-04 00:00:00-05:00  177000000  352.200012       0        0.995675   \n",
       "1990-01-05 00:00:00-05:00  158530000  353.790009       1        0.995098   \n",
       "1990-01-08 00:00:00-05:00  140110000  349.619995       0        1.002252   \n",
       "\n",
       "                           Trend_2  Close_Ration_5  Trend_5  Close_Ration_60  \\\n",
       "Date                                                                           \n",
       "1990-01-02 00:00:00-05:00      NaN             NaN      NaN              NaN   \n",
       "1990-01-03 00:00:00-05:00      NaN             NaN      NaN              NaN   \n",
       "1990-01-04 00:00:00-05:00      0.0             NaN      NaN              NaN   \n",
       "1990-01-05 00:00:00-05:00      0.0             NaN      NaN              NaN   \n",
       "1990-01-08 00:00:00-05:00      1.0        0.993731      NaN              NaN   \n",
       "\n",
       "                           Trend_60  Close_Ration_250  Trend_250  \\\n",
       "Date                                                               \n",
       "1990-01-02 00:00:00-05:00       NaN               NaN        NaN   \n",
       "1990-01-03 00:00:00-05:00       NaN               NaN        NaN   \n",
       "1990-01-04 00:00:00-05:00       NaN               NaN        NaN   \n",
       "1990-01-05 00:00:00-05:00       NaN               NaN        NaN   \n",
       "1990-01-08 00:00:00-05:00       NaN               NaN        NaN   \n",
       "\n",
       "                           Close_Ration_1000  Trend_1000  \n",
       "Date                                                      \n",
       "1990-01-02 00:00:00-05:00                NaN         NaN  \n",
       "1990-01-03 00:00:00-05:00                NaN         NaN  \n",
       "1990-01-04 00:00:00-05:00                NaN         NaN  \n",
       "1990-01-05 00:00:00-05:00                NaN         NaN  \n",
       "1990-01-08 00:00:00-05:00                NaN         NaN  "
      ]
     },
     "execution_count": 40,
     "metadata": {},
     "output_type": "execute_result"
    }
   ],
   "source": [
    "sp500.head()"
   ]
  },
  {
   "cell_type": "markdown",
   "id": "0bb10d5c",
   "metadata": {},
   "source": [
    "We see that there are a lot of missing values, because when pandas can't find data for prior days it shows NaN value. According to this reason we have to drop NaN"
   ]
  },
  {
   "cell_type": "code",
   "execution_count": 41,
   "id": "2f0d70f2",
   "metadata": {},
   "outputs": [],
   "source": [
    "sp500 = sp500.dropna()"
   ]
  },
  {
   "cell_type": "code",
   "execution_count": 42,
   "id": "1cc92baf",
   "metadata": {
    "scrolled": true
   },
   "outputs": [
    {
     "data": {
      "text/html": [
       "<div>\n",
       "<style scoped>\n",
       "    .dataframe tbody tr th:only-of-type {\n",
       "        vertical-align: middle;\n",
       "    }\n",
       "\n",
       "    .dataframe tbody tr th {\n",
       "        vertical-align: top;\n",
       "    }\n",
       "\n",
       "    .dataframe thead th {\n",
       "        text-align: right;\n",
       "    }\n",
       "</style>\n",
       "<table border=\"1\" class=\"dataframe\">\n",
       "  <thead>\n",
       "    <tr style=\"text-align: right;\">\n",
       "      <th></th>\n",
       "      <th>Open</th>\n",
       "      <th>High</th>\n",
       "      <th>Low</th>\n",
       "      <th>Close</th>\n",
       "      <th>Volume</th>\n",
       "      <th>Tomorrow</th>\n",
       "      <th>Target</th>\n",
       "      <th>Close_Ration_2</th>\n",
       "      <th>Trend_2</th>\n",
       "      <th>Close_Ration_5</th>\n",
       "      <th>Trend_5</th>\n",
       "      <th>Close_Ration_60</th>\n",
       "      <th>Trend_60</th>\n",
       "      <th>Close_Ration_250</th>\n",
       "      <th>Trend_250</th>\n",
       "      <th>Close_Ration_1000</th>\n",
       "      <th>Trend_1000</th>\n",
       "    </tr>\n",
       "    <tr>\n",
       "      <th>Date</th>\n",
       "      <th></th>\n",
       "      <th></th>\n",
       "      <th></th>\n",
       "      <th></th>\n",
       "      <th></th>\n",
       "      <th></th>\n",
       "      <th></th>\n",
       "      <th></th>\n",
       "      <th></th>\n",
       "      <th></th>\n",
       "      <th></th>\n",
       "      <th></th>\n",
       "      <th></th>\n",
       "      <th></th>\n",
       "      <th></th>\n",
       "      <th></th>\n",
       "      <th></th>\n",
       "    </tr>\n",
       "  </thead>\n",
       "  <tbody>\n",
       "    <tr>\n",
       "      <th>1993-12-14 00:00:00-05:00</th>\n",
       "      <td>465.730011</td>\n",
       "      <td>466.119995</td>\n",
       "      <td>462.459991</td>\n",
       "      <td>463.059998</td>\n",
       "      <td>275050000</td>\n",
       "      <td>461.839996</td>\n",
       "      <td>0</td>\n",
       "      <td>0.997157</td>\n",
       "      <td>1.0</td>\n",
       "      <td>0.996617</td>\n",
       "      <td>1.0</td>\n",
       "      <td>1.000283</td>\n",
       "      <td>32.0</td>\n",
       "      <td>1.028047</td>\n",
       "      <td>127.0</td>\n",
       "      <td>1.176082</td>\n",
       "      <td>512.0</td>\n",
       "    </tr>\n",
       "    <tr>\n",
       "      <th>1993-12-15 00:00:00-05:00</th>\n",
       "      <td>463.059998</td>\n",
       "      <td>463.690002</td>\n",
       "      <td>461.839996</td>\n",
       "      <td>461.839996</td>\n",
       "      <td>331770000</td>\n",
       "      <td>463.339996</td>\n",
       "      <td>1</td>\n",
       "      <td>0.998681</td>\n",
       "      <td>0.0</td>\n",
       "      <td>0.995899</td>\n",
       "      <td>1.0</td>\n",
       "      <td>0.997329</td>\n",
       "      <td>32.0</td>\n",
       "      <td>1.025151</td>\n",
       "      <td>126.0</td>\n",
       "      <td>1.172676</td>\n",
       "      <td>512.0</td>\n",
       "    </tr>\n",
       "    <tr>\n",
       "      <th>1993-12-16 00:00:00-05:00</th>\n",
       "      <td>461.859985</td>\n",
       "      <td>463.980011</td>\n",
       "      <td>461.859985</td>\n",
       "      <td>463.339996</td>\n",
       "      <td>284620000</td>\n",
       "      <td>466.380005</td>\n",
       "      <td>1</td>\n",
       "      <td>1.001621</td>\n",
       "      <td>1.0</td>\n",
       "      <td>0.999495</td>\n",
       "      <td>2.0</td>\n",
       "      <td>1.000311</td>\n",
       "      <td>32.0</td>\n",
       "      <td>1.028274</td>\n",
       "      <td>127.0</td>\n",
       "      <td>1.176163</td>\n",
       "      <td>513.0</td>\n",
       "    </tr>\n",
       "    <tr>\n",
       "      <th>1993-12-17 00:00:00-05:00</th>\n",
       "      <td>463.339996</td>\n",
       "      <td>466.380005</td>\n",
       "      <td>463.339996</td>\n",
       "      <td>466.380005</td>\n",
       "      <td>363750000</td>\n",
       "      <td>465.850006</td>\n",
       "      <td>0</td>\n",
       "      <td>1.003270</td>\n",
       "      <td>2.0</td>\n",
       "      <td>1.004991</td>\n",
       "      <td>3.0</td>\n",
       "      <td>1.006561</td>\n",
       "      <td>32.0</td>\n",
       "      <td>1.034781</td>\n",
       "      <td>128.0</td>\n",
       "      <td>1.183537</td>\n",
       "      <td>514.0</td>\n",
       "    </tr>\n",
       "    <tr>\n",
       "      <th>1993-12-20 00:00:00-05:00</th>\n",
       "      <td>466.380005</td>\n",
       "      <td>466.899994</td>\n",
       "      <td>465.529999</td>\n",
       "      <td>465.850006</td>\n",
       "      <td>255900000</td>\n",
       "      <td>465.299988</td>\n",
       "      <td>0</td>\n",
       "      <td>0.999431</td>\n",
       "      <td>1.0</td>\n",
       "      <td>1.003784</td>\n",
       "      <td>2.0</td>\n",
       "      <td>1.005120</td>\n",
       "      <td>32.0</td>\n",
       "      <td>1.033359</td>\n",
       "      <td>128.0</td>\n",
       "      <td>1.181856</td>\n",
       "      <td>513.0</td>\n",
       "    </tr>\n",
       "  </tbody>\n",
       "</table>\n",
       "</div>"
      ],
      "text/plain": [
       "                                 Open        High         Low       Close  \\\n",
       "Date                                                                        \n",
       "1993-12-14 00:00:00-05:00  465.730011  466.119995  462.459991  463.059998   \n",
       "1993-12-15 00:00:00-05:00  463.059998  463.690002  461.839996  461.839996   \n",
       "1993-12-16 00:00:00-05:00  461.859985  463.980011  461.859985  463.339996   \n",
       "1993-12-17 00:00:00-05:00  463.339996  466.380005  463.339996  466.380005   \n",
       "1993-12-20 00:00:00-05:00  466.380005  466.899994  465.529999  465.850006   \n",
       "\n",
       "                              Volume    Tomorrow  Target  Close_Ration_2  \\\n",
       "Date                                                                       \n",
       "1993-12-14 00:00:00-05:00  275050000  461.839996       0        0.997157   \n",
       "1993-12-15 00:00:00-05:00  331770000  463.339996       1        0.998681   \n",
       "1993-12-16 00:00:00-05:00  284620000  466.380005       1        1.001621   \n",
       "1993-12-17 00:00:00-05:00  363750000  465.850006       0        1.003270   \n",
       "1993-12-20 00:00:00-05:00  255900000  465.299988       0        0.999431   \n",
       "\n",
       "                           Trend_2  Close_Ration_5  Trend_5  Close_Ration_60  \\\n",
       "Date                                                                           \n",
       "1993-12-14 00:00:00-05:00      1.0        0.996617      1.0         1.000283   \n",
       "1993-12-15 00:00:00-05:00      0.0        0.995899      1.0         0.997329   \n",
       "1993-12-16 00:00:00-05:00      1.0        0.999495      2.0         1.000311   \n",
       "1993-12-17 00:00:00-05:00      2.0        1.004991      3.0         1.006561   \n",
       "1993-12-20 00:00:00-05:00      1.0        1.003784      2.0         1.005120   \n",
       "\n",
       "                           Trend_60  Close_Ration_250  Trend_250  \\\n",
       "Date                                                               \n",
       "1993-12-14 00:00:00-05:00      32.0          1.028047      127.0   \n",
       "1993-12-15 00:00:00-05:00      32.0          1.025151      126.0   \n",
       "1993-12-16 00:00:00-05:00      32.0          1.028274      127.0   \n",
       "1993-12-17 00:00:00-05:00      32.0          1.034781      128.0   \n",
       "1993-12-20 00:00:00-05:00      32.0          1.033359      128.0   \n",
       "\n",
       "                           Close_Ration_1000  Trend_1000  \n",
       "Date                                                      \n",
       "1993-12-14 00:00:00-05:00           1.176082       512.0  \n",
       "1993-12-15 00:00:00-05:00           1.172676       512.0  \n",
       "1993-12-16 00:00:00-05:00           1.176163       513.0  \n",
       "1993-12-17 00:00:00-05:00           1.183537       514.0  \n",
       "1993-12-20 00:00:00-05:00           1.181856       513.0  "
      ]
     },
     "execution_count": 42,
     "metadata": {},
     "output_type": "execute_result"
    }
   ],
   "source": [
    "sp500.head()"
   ]
  },
  {
   "cell_type": "markdown",
   "id": "79e1e1ef",
   "metadata": {},
   "source": [
    "### Update base model"
   ]
  },
  {
   "cell_type": "code",
   "execution_count": 43,
   "id": "2d178d62",
   "metadata": {},
   "outputs": [],
   "source": [
    "model_2 = RandomForestClassifier(n_estimators = 200, min_samples_split = 50, random_state = 1)"
   ]
  },
  {
   "cell_type": "code",
   "execution_count": 44,
   "id": "5138a707",
   "metadata": {},
   "outputs": [
    {
     "data": {
      "text/html": [
       "<div>\n",
       "<style scoped>\n",
       "    .dataframe tbody tr th:only-of-type {\n",
       "        vertical-align: middle;\n",
       "    }\n",
       "\n",
       "    .dataframe tbody tr th {\n",
       "        vertical-align: top;\n",
       "    }\n",
       "\n",
       "    .dataframe thead th {\n",
       "        text-align: right;\n",
       "    }\n",
       "</style>\n",
       "<table border=\"1\" class=\"dataframe\">\n",
       "  <thead>\n",
       "    <tr style=\"text-align: right;\">\n",
       "      <th></th>\n",
       "      <th>Open</th>\n",
       "      <th>High</th>\n",
       "      <th>Low</th>\n",
       "      <th>Close</th>\n",
       "      <th>Volume</th>\n",
       "      <th>Tomorrow</th>\n",
       "      <th>Target</th>\n",
       "    </tr>\n",
       "    <tr>\n",
       "      <th>Date</th>\n",
       "      <th></th>\n",
       "      <th></th>\n",
       "      <th></th>\n",
       "      <th></th>\n",
       "      <th></th>\n",
       "      <th></th>\n",
       "      <th></th>\n",
       "    </tr>\n",
       "  </thead>\n",
       "  <tbody>\n",
       "    <tr>\n",
       "      <th>2023-03-09 00:00:00-05:00</th>\n",
       "      <td>3998.659912</td>\n",
       "      <td>4017.810059</td>\n",
       "      <td>3908.699951</td>\n",
       "      <td>3918.320068</td>\n",
       "      <td>4445260000</td>\n",
       "      <td>3861.590088</td>\n",
       "      <td>0</td>\n",
       "    </tr>\n",
       "    <tr>\n",
       "      <th>2023-03-10 00:00:00-05:00</th>\n",
       "      <td>3912.770020</td>\n",
       "      <td>3934.050049</td>\n",
       "      <td>3846.320068</td>\n",
       "      <td>3861.590088</td>\n",
       "      <td>5518190000</td>\n",
       "      <td>3855.760010</td>\n",
       "      <td>0</td>\n",
       "    </tr>\n",
       "    <tr>\n",
       "      <th>2023-03-13 00:00:00-04:00</th>\n",
       "      <td>3835.120117</td>\n",
       "      <td>3905.050049</td>\n",
       "      <td>3808.860107</td>\n",
       "      <td>3855.760010</td>\n",
       "      <td>6558020000</td>\n",
       "      <td>3919.290039</td>\n",
       "      <td>1</td>\n",
       "    </tr>\n",
       "    <tr>\n",
       "      <th>2023-03-14 00:00:00-04:00</th>\n",
       "      <td>3894.010010</td>\n",
       "      <td>3937.290039</td>\n",
       "      <td>3873.629883</td>\n",
       "      <td>3919.290039</td>\n",
       "      <td>5665870000</td>\n",
       "      <td>3891.929932</td>\n",
       "      <td>0</td>\n",
       "    </tr>\n",
       "    <tr>\n",
       "      <th>2023-03-15 00:00:00-04:00</th>\n",
       "      <td>3876.739990</td>\n",
       "      <td>3894.260010</td>\n",
       "      <td>3838.239990</td>\n",
       "      <td>3891.929932</td>\n",
       "      <td>6594010000</td>\n",
       "      <td>3960.280029</td>\n",
       "      <td>1</td>\n",
       "    </tr>\n",
       "  </tbody>\n",
       "</table>\n",
       "</div>"
      ],
      "text/plain": [
       "                                  Open         High          Low        Close  \\\n",
       "Date                                                                            \n",
       "2023-03-09 00:00:00-05:00  3998.659912  4017.810059  3908.699951  3918.320068   \n",
       "2023-03-10 00:00:00-05:00  3912.770020  3934.050049  3846.320068  3861.590088   \n",
       "2023-03-13 00:00:00-04:00  3835.120117  3905.050049  3808.860107  3855.760010   \n",
       "2023-03-14 00:00:00-04:00  3894.010010  3937.290039  3873.629883  3919.290039   \n",
       "2023-03-15 00:00:00-04:00  3876.739990  3894.260010  3838.239990  3891.929932   \n",
       "\n",
       "                               Volume     Tomorrow  Target  \n",
       "Date                                                        \n",
       "2023-03-09 00:00:00-05:00  4445260000  3861.590088       0  \n",
       "2023-03-10 00:00:00-05:00  5518190000  3855.760010       0  \n",
       "2023-03-13 00:00:00-04:00  6558020000  3919.290039       1  \n",
       "2023-03-14 00:00:00-04:00  5665870000  3891.929932       0  \n",
       "2023-03-15 00:00:00-04:00  6594010000  3960.280029       1  "
      ]
     },
     "execution_count": 44,
     "metadata": {},
     "output_type": "execute_result"
    }
   ],
   "source": [
    "test.head()"
   ]
  },
  {
   "cell_type": "markdown",
   "id": "33a0a41b",
   "metadata": {},
   "source": [
    "### Change our improve function\n",
    "\n",
    "Next I try to improve my predict function. I want to have more control on what does it mean when model return 1 or 0. So I use predict_proba and set that when probabillity that sp500 goes up >= 0.6 model have to return 1, in other case - 0. \n",
    "\n",
    "It's action actually reduce our trading days, when we are suppose to trade, but increas a chance that price really goes up. And basically it's what we want to do - we don't want trad every single day, we want trade only the day when we are confident in a result"
   ]
  },
  {
   "cell_type": "code",
   "execution_count": 45,
   "id": "9ada6840",
   "metadata": {},
   "outputs": [],
   "source": [
    "def predict(train, test, features, model):\n",
    "    model_2.fit(train[features], train['Target'])\n",
    "    preds = model_2.predict_proba(test[features])[:,1]\n",
    "    preds[preds >= .6] = 1\n",
    "    preds[preds < .6] = 0\n",
    "    preds = pd.Series(preds, index = test.index, name = 'Predictions')\n",
    "    combined = pd.concat([test['Target'], preds], axis = 1)\n",
    "    return combined\n",
    "    "
   ]
  },
  {
   "cell_type": "code",
   "execution_count": 46,
   "id": "707cf999",
   "metadata": {},
   "outputs": [],
   "source": [
    "predictions = backtest(sp500, model_2, new_predictors)"
   ]
  },
  {
   "cell_type": "code",
   "execution_count": 47,
   "id": "9c8bc9b0",
   "metadata": {},
   "outputs": [
    {
     "data": {
      "text/plain": [
       "Predictions\n",
       "0.0    4142\n",
       "1.0     817\n",
       "Name: count, dtype: int64"
      ]
     },
     "execution_count": 47,
     "metadata": {},
     "output_type": "execute_result"
    }
   ],
   "source": [
    "predictions['Predictions'].value_counts()"
   ]
  },
  {
   "cell_type": "markdown",
   "id": "d50642b7",
   "metadata": {},
   "source": [
    "#### So we get another distribution of counts when markets go up and down than previously. It's because we early set out threshold equal 0.6. And now we're going to trade less count of days then previously and hopefully we'll be more accurate"
   ]
  },
  {
   "cell_type": "code",
   "execution_count": 48,
   "id": "11f9ac05",
   "metadata": {},
   "outputs": [
    {
     "data": {
      "text/plain": [
       "0.5691554467564259"
      ]
     },
     "execution_count": 48,
     "metadata": {},
     "output_type": "execute_result"
    }
   ],
   "source": [
    "precision_score(predictions['Target'], predictions['Predictions'])"
   ]
  },
  {
   "cell_type": "code",
   "execution_count": 72,
   "id": "154998ca",
   "metadata": {},
   "outputs": [
    {
     "name": "stderr",
     "output_type": "stream",
     "text": [
      "2023/08/02 15:07:48 WARNING mlflow.models.model: Logging model metadata to the tracking server has failed. The model artifacts have been logged successfully under /home/timur/work_hub/mlops_zoomcamp2023/Final_project/mlruns/1/59e1f36454e443ed9bb735340f1bfd4b/artifacts. Set logging level to DEBUG via `logging.getLogger(\"mlflow\").setLevel(logging.DEBUG)` to see the full traceback.\n",
      "2023/08/02 15:07:53 WARNING mlflow.models.model: Logging model metadata to the tracking server has failed. The model artifacts have been logged successfully under /home/timur/work_hub/mlops_zoomcamp2023/Final_project/mlruns/1/59e1f36454e443ed9bb735340f1bfd4b/artifacts. Set logging level to DEBUG via `logging.getLogger(\"mlflow\").setLevel(logging.DEBUG)` to see the full traceback.\n",
      "2023/08/02 15:07:59 WARNING mlflow.models.model: Logging model metadata to the tracking server has failed. The model artifacts have been logged successfully under /home/timur/work_hub/mlops_zoomcamp2023/Final_project/mlruns/1/59e1f36454e443ed9bb735340f1bfd4b/artifacts. Set logging level to DEBUG via `logging.getLogger(\"mlflow\").setLevel(logging.DEBUG)` to see the full traceback.\n",
      "2023/08/02 15:08:04 WARNING mlflow.models.model: Logging model metadata to the tracking server has failed. The model artifacts have been logged successfully under /home/timur/work_hub/mlops_zoomcamp2023/Final_project/mlruns/1/59e1f36454e443ed9bb735340f1bfd4b/artifacts. Set logging level to DEBUG via `logging.getLogger(\"mlflow\").setLevel(logging.DEBUG)` to see the full traceback.\n",
      "2023/08/02 15:08:09 WARNING mlflow.models.model: Logging model metadata to the tracking server has failed. The model artifacts have been logged successfully under /home/timur/work_hub/mlops_zoomcamp2023/Final_project/mlruns/1/59e1f36454e443ed9bb735340f1bfd4b/artifacts. Set logging level to DEBUG via `logging.getLogger(\"mlflow\").setLevel(logging.DEBUG)` to see the full traceback.\n",
      "2023/08/02 15:08:15 WARNING mlflow.models.model: Logging model metadata to the tracking server has failed. The model artifacts have been logged successfully under /home/timur/work_hub/mlops_zoomcamp2023/Final_project/mlruns/1/59e1f36454e443ed9bb735340f1bfd4b/artifacts. Set logging level to DEBUG via `logging.getLogger(\"mlflow\").setLevel(logging.DEBUG)` to see the full traceback.\n",
      "2023/08/02 15:08:20 WARNING mlflow.models.model: Logging model metadata to the tracking server has failed. The model artifacts have been logged successfully under /home/timur/work_hub/mlops_zoomcamp2023/Final_project/mlruns/1/59e1f36454e443ed9bb735340f1bfd4b/artifacts. Set logging level to DEBUG via `logging.getLogger(\"mlflow\").setLevel(logging.DEBUG)` to see the full traceback.\n",
      "2023/08/02 15:08:26 WARNING mlflow.models.model: Logging model metadata to the tracking server has failed. The model artifacts have been logged successfully under /home/timur/work_hub/mlops_zoomcamp2023/Final_project/mlruns/1/59e1f36454e443ed9bb735340f1bfd4b/artifacts. Set logging level to DEBUG via `logging.getLogger(\"mlflow\").setLevel(logging.DEBUG)` to see the full traceback.\n",
      "2023/08/02 15:08:32 WARNING mlflow.models.model: Logging model metadata to the tracking server has failed. The model artifacts have been logged successfully under /home/timur/work_hub/mlops_zoomcamp2023/Final_project/mlruns/1/59e1f36454e443ed9bb735340f1bfd4b/artifacts. Set logging level to DEBUG via `logging.getLogger(\"mlflow\").setLevel(logging.DEBUG)` to see the full traceback.\n",
      "2023/08/02 15:08:38 WARNING mlflow.models.model: Logging model metadata to the tracking server has failed. The model artifacts have been logged successfully under /home/timur/work_hub/mlops_zoomcamp2023/Final_project/mlruns/1/59e1f36454e443ed9bb735340f1bfd4b/artifacts. Set logging level to DEBUG via `logging.getLogger(\"mlflow\").setLevel(logging.DEBUG)` to see the full traceback.\n",
      "2023/08/02 15:08:44 WARNING mlflow.models.model: Logging model metadata to the tracking server has failed. The model artifacts have been logged successfully under /home/timur/work_hub/mlops_zoomcamp2023/Final_project/mlruns/1/59e1f36454e443ed9bb735340f1bfd4b/artifacts. Set logging level to DEBUG via `logging.getLogger(\"mlflow\").setLevel(logging.DEBUG)` to see the full traceback.\n",
      "2023/08/02 15:08:50 WARNING mlflow.models.model: Logging model metadata to the tracking server has failed. The model artifacts have been logged successfully under /home/timur/work_hub/mlops_zoomcamp2023/Final_project/mlruns/1/59e1f36454e443ed9bb735340f1bfd4b/artifacts. Set logging level to DEBUG via `logging.getLogger(\"mlflow\").setLevel(logging.DEBUG)` to see the full traceback.\n",
      "2023/08/02 15:08:56 WARNING mlflow.models.model: Logging model metadata to the tracking server has failed. The model artifacts have been logged successfully under /home/timur/work_hub/mlops_zoomcamp2023/Final_project/mlruns/1/59e1f36454e443ed9bb735340f1bfd4b/artifacts. Set logging level to DEBUG via `logging.getLogger(\"mlflow\").setLevel(logging.DEBUG)` to see the full traceback.\n",
      "2023/08/02 15:09:03 WARNING mlflow.models.model: Logging model metadata to the tracking server has failed. The model artifacts have been logged successfully under /home/timur/work_hub/mlops_zoomcamp2023/Final_project/mlruns/1/59e1f36454e443ed9bb735340f1bfd4b/artifacts. Set logging level to DEBUG via `logging.getLogger(\"mlflow\").setLevel(logging.DEBUG)` to see the full traceback.\n",
      "2023/08/02 15:09:09 WARNING mlflow.models.model: Logging model metadata to the tracking server has failed. The model artifacts have been logged successfully under /home/timur/work_hub/mlops_zoomcamp2023/Final_project/mlruns/1/59e1f36454e443ed9bb735340f1bfd4b/artifacts. Set logging level to DEBUG via `logging.getLogger(\"mlflow\").setLevel(logging.DEBUG)` to see the full traceback.\n",
      "2023/08/02 15:09:16 WARNING mlflow.models.model: Logging model metadata to the tracking server has failed. The model artifacts have been logged successfully under /home/timur/work_hub/mlops_zoomcamp2023/Final_project/mlruns/1/59e1f36454e443ed9bb735340f1bfd4b/artifacts. Set logging level to DEBUG via `logging.getLogger(\"mlflow\").setLevel(logging.DEBUG)` to see the full traceback.\n"
     ]
    }
   ],
   "source": [
    "with mlflow.start_run():\n",
    "    \n",
    "    mlflow.set_tag('developer', 'Timur')\n",
    "    mlflow.set_tag('model', 'RandomForestClassifier')\n",
    "    mlflow.set_tag('type', 'add_ma_feature')\n",
    "    \n",
    "    mlflow.log_param('train-data-path', '/home/timur/work_hub/mlops_zoomcamp2023/Final_project/Data/train_data.csv')\n",
    "    mlflow.log_param('test-data-path', '/home/timur/work_hub/mlops_zoomcamp2023/Final_project/Data/test_data.csv')\n",
    "    \n",
    "    n_estimators = 200\n",
    "    min_samples_split = 50\n",
    "    random_state = 1\n",
    "\n",
    "    mlflow.log_param('n_estimators', n_estimators)\n",
    "    mlflow.log_param('min_samples_split', min_samples_split)\n",
    "    mlflow.log_param('random_state', random_state)\n",
    "    \n",
    "    predictions = backtest(sp500, model_2, new_predictors)\n",
    "    accuracy = precision_score(predictions['Target'], predictions['Predictions'])\n",
    "    mlflow.log_metric('accuracy', accuracy)\n",
    "    "
   ]
  },
  {
   "cell_type": "markdown",
   "id": "82f5fd2e",
   "metadata": {},
   "source": [
    "#### We get a result which actually more accurate than our base line. Of course we can work with this model or use another and look at result."
   ]
  },
  {
   "cell_type": "markdown",
   "id": "ac418a2d",
   "metadata": {},
   "source": [
    "#### Save our second model_2"
   ]
  },
  {
   "cell_type": "code",
   "execution_count": 50,
   "id": "bcc71728",
   "metadata": {},
   "outputs": [],
   "source": [
    "with open('/home/timur/work_hub/mlops_zoomcamp2023/Final_project/Models/random_forest_model_2.pkl', 'wb') as f_out:\n",
    "    pickle.dump(model_2, f_out)"
   ]
  }
 ],
 "metadata": {
  "kernelspec": {
   "display_name": "Python 3 (ipykernel)",
   "language": "python",
   "name": "python3"
  },
  "language_info": {
   "codemirror_mode": {
    "name": "ipython",
    "version": 3
   },
   "file_extension": ".py",
   "mimetype": "text/x-python",
   "name": "python",
   "nbconvert_exporter": "python",
   "pygments_lexer": "ipython3",
   "version": "3.11.4"
  }
 },
 "nbformat": 4,
 "nbformat_minor": 5
}
