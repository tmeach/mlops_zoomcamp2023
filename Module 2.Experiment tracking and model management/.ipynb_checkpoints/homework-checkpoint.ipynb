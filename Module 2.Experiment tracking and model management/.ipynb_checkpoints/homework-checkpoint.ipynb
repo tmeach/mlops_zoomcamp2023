{
 "cells": [
  {
   "cell_type": "markdown",
   "metadata": {},
   "source": [
    "## Q1. Install the package\n",
    "- To get started with MLflow you'll need to install the appropriate Python package\n",
    "- What's the version that you have?"
   ]
  },
  {
   "cell_type": "markdown",
   "metadata": {},
   "source": [
    "Let's execute - 'mlflow --version' in a command line\n",
    "\n",
    "### Output: mlflow, version 2.3.2"
   ]
  },
  {
   "cell_type": "markdown",
   "metadata": {},
   "source": [
    "## Q2. Download and preprocess the data"
   ]
  },
  {
   "cell_type": "markdown",
   "metadata": {},
   "source": [
    "## We have separeted script preprocess_data.py. This script will: \n",
    "- load the data from the folder <TAXI_DATA_FOLDER> (the folder where you have downloaded the data)\n",
    "- fit a DictVectorizer on the training set (January 2022 data)\n",
    "- save the preprocessed datasets and the DictVectorizer to disk.\n",
    "\n",
    "Let's execute it! \n",
    "\n",
    "So what's the size of the saved DictVectorizer file?\n",
    "\n",
    "- 54 kB\n",
    "- 154 kB\n",
    "- 54 MB\n",
    "- 154 MB"
   ]
  },
  {
   "cell_type": "markdown",
   "metadata": {},
   "source": [
    "Let's execute - 'ls -sh' in a directory 'output'. That command shows the size of files inside directory.\n",
    "### Answer: the size of the save DictVectorizer file is 154 kB"
   ]
  },
  {
   "cell_type": "markdown",
   "metadata": {},
   "source": [
    "## Q3. Train a model with autolog\n",
    "\n",
    "We will train a RandomForestRegressor (from Scikit-Learn) on the taxi dataset.\n",
    "\n",
    "We have prepared the training script train.py for this exercise, which can be also found in the folder homework.\n",
    "\n",
    "The script will:\n",
    "\n",
    "- load the datasets produced by the previous step\n",
    "- train the model on the training set\n",
    "- calculate the RMSE score on the validation set\n",
    "\n",
    "Your task is to modify the script to enable autologging with MLflow, execute the script and then launch the MLflow UI to check that the experiment run was properly tracked.\n",
    "\n",
    "Tip 1: don't forget to wrap the training code with a with mlflow.start_run(): statement as we showed in the videos.\n",
    "\n",
    "Tip 2: don't modify the hyperparameters of the model to make sure that the training will finish quickly."
   ]
  },
  {
   "cell_type": "markdown",
   "metadata": {},
   "source": [
    "Question: What is the value of the max_depth parameter:\n",
    "\n",
    "- 4\n",
    "- 6\n",
    "- 8\n",
    "- 10\n",
    "\n",
    "### Answer: value of the max_depth parametr - 10 "
   ]
  },
  {
   "cell_type": "markdown",
   "metadata": {},
   "source": [
    "## Launch the tracking server locally for MLflow\n",
    "\n",
    "Now we want to manage the entire lifecycle of our ML model. In this step, you'll need to launch a tracking server. This way we will also have access to the model registry.\n",
    "\n",
    "In case of MLflow, you need to:\n",
    "\n",
    "- launch the tracking server on your local machine\n",
    "- select a SQLite db for the backend store and a folder called artifacts for the artifacts store.\n",
    "\n",
    "You should keep the tracking server running to work on the next three exercises that use the server."
   ]
  },
  {
   "cell_type": "markdown",
   "metadata": {},
   "source": [
    "## Q4. Tune model hyperparameters\n",
    "\n",
    "Now let's try to reduce the validation error by tuning the hyperparameters of the RandomForestRegressor using optuna. We have prepared the script hpo.py for this exercise.\n",
    "\n",
    "Your task is to modify the script hpo.py and make sure that the validation RMSE is logged to the tracking server for each run of the hyperparameter optimization (you will need to add a few lines of code to the objective function) and run the script without passing any parameters.\n",
    "\n",
    "After that, open UI and explore the runs from the experiment called random-forest-hyperopt to answer the question below.\n",
    "\n",
    "Note: Don't use autologging for this exercise.\n",
    "\n",
    "The idea is to just log the information that you need to answer the question below, including:\n",
    "\n",
    "- the list of hyperparameters that are passed to the objective function during the optimization,\n",
    "- the RMSE obtained on the validation set (February 2022 data).\n",
    "\n",
    "## Question: What's the best validation RMSE that you got?\n",
    "\n",
    "- 1.85\n",
    "- 2.15\n",
    "- 2.45\n",
    "- 2.85"
   ]
  },
  {
   "cell_type": "markdown",
   "metadata": {},
   "source": [
    "1. Let's execute \"- mlflow server --backend-store-uri sqlite:///backend.db --default-artifacts-root ./artifacts\" in a command line\n",
    "2. We create local server without any Expirements. \n",
    "3. Fix hpo.py script: \n",
    "- adas\n",
    "- dasdasd\n",
    "- sadasda\n",
    "- dasdasd\n",
    "3. Then execute this script hpo.py. Our experiments automatically appears in mlflow. \n",
    "4. I see that the best validation RMSE I've got - 2.45\n",
    "\n",
    "#### Answer: \n",
    "- RMSE: 2.45"
   ]
  },
  {
   "cell_type": "markdown",
   "metadata": {},
   "source": [
    "# Q5. Promote the best model to the model registry\n",
    "\n",
    "The results from the hyperparameter optimization are quite good. So, we can assume that we are ready to test some of these models in production. In this exercise, you'll promote the best model to the model registry. We have prepared a script called register_model.py, which will check the results from the previous step and select the top 5 runs. After that, it will calculate the RMSE of those models on the test set (March 2022 data) and save the results to a new experiment called random-forest-best-models.\n",
    "\n",
    "Your task is to update the script register_model.py so that it selects the model with the lowest RMSE on the test set and registers it to the model registry.\n",
    "\n",
    "Tips for MLflow:\n",
    "\n",
    "- you can use the method search_runs from the MlflowClient to get the model with the lowest RMSE,\n",
    "- to register the model you can use the method mlflow.register_model and you will need to pass the right model_uri in the form of a string that looks like this: \"runs:/<RUN_ID>/model\", and the name of the model (make sure to choose a good one!).\n",
    "\n",
    "What is the test RMSE of the best model?\n",
    "\n",
    "- 1.885\n",
    "- 2.185\n",
    "- 2.555\n",
    "- 2.955"
   ]
  },
  {
   "cell_type": "markdown",
   "metadata": {},
   "source": [
    "Answer: I've got 2.285 test RMSE of the best model. The closest answer is: \n",
    "- 2.185"
   ]
  },
  {
   "cell_type": "markdown",
   "metadata": {},
   "source": [
    "# Q6. Model metadata\n",
    "Now explore your best model in the model registry using UI. What information does the model registry contain about each model?\n",
    "\n",
    "- Version number\n",
    "- Source experiment\n",
    "- Model signature\n",
    "- All the above answers are correct"
   ]
  },
  {
   "cell_type": "markdown",
   "metadata": {},
   "source": [
    "Answer: model registry contains all this information about each model:\n",
    "- Version number \n",
    "- Source experiment\n",
    "- Model signature "
   ]
  }
 ],
 "metadata": {
  "kernelspec": {
   "display_name": "Python 3 (ipykernel)",
   "language": "python",
   "name": "python3"
  },
  "language_info": {
   "codemirror_mode": {
    "name": "ipython",
    "version": 3
   },
   "file_extension": ".py",
   "mimetype": "text/x-python",
   "name": "python",
   "nbconvert_exporter": "python",
   "pygments_lexer": "ipython3",
   "version": "3.9.13"
  }
 },
 "nbformat": 4,
 "nbformat_minor": 2
}
