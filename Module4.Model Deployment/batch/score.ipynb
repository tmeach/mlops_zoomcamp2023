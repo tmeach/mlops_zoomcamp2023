{
 "cells": [
  {
   "cell_type": "code",
   "execution_count": 1,
   "id": "2e25cf66",
   "metadata": {},
   "outputs": [],
   "source": [
    "import pickle\n",
    "import os\n",
    "import pandas as pd\n",
    "import uuid\n",
    "\n",
    "import mlflow\n",
    "\n",
    "from sklearn.feature_extraction import DictVectorizer\n",
    "from sklearn.ensemble import RandomForestRegressor\n",
    "from sklearn.metrics import mean_squared_error\n",
    "from sklearn.pipeline import make_pipeline"
   ]
  },
  {
   "cell_type": "code",
   "execution_count": null,
   "id": "0a4b9a7c",
   "metadata": {},
   "outputs": [],
   "source": [
    "year = 2023\n",
    "month = 6\n",
    "taxi_type = 'green'\n",
    "\n",
    "input_file = f'https://d37ci6vzurychx.cloudfront.net/trip-data/{taxi_type}_tripdata/{year:04d}-{month:02d}.parquet'\n",
    "output_file = f'output/{taxi_type}/{year:04d}-{month:02d}.parquet'\n",
    "\n",
    "RUN_ID = 'os.getenv('RUN_ID', '________________________')\n",
    "\n",
    "logged_model = f'runs:/{RUN_ID}/model'"
   ]
  },
  {
   "cell_type": "code",
   "execution_count": 3,
   "id": "b9666e19",
   "metadata": {},
   "outputs": [],
   "source": [
    "def generate_uuids(n):\n",
    "    ride_is = []\n",
    "    for i in range(n):\n",
    "        ride_is.append(str(uuid.uuid4()))\n",
    "    return ride_is\n",
    "\n",
    "def read_dataframe(filename: str):\n",
    "    df = pd.read_parquet(filename)\n",
    "\n",
    "    df['duration'] = df.lpep_dropoff_datetime - df.lpep_pickup_datetime\n",
    "    df.duration = df.duration.dt.total_seconds() / 60\n",
    "    df = df[(df.duration >= 1) & (df.duration <= 60)]\n",
    "    return df\n",
    "\n",
    "\n",
    "def prepare_dictionaries(df: pd.DataFrame):\n",
    "    categorical = ['PULocationID', 'DOLocationID']\n",
    "    df[categorical] = df[categorical].astype(str)\n",
    "\n",
    "    df['PU_DO'] = df['PULocationID'] + '_' + df['DOLocationID']\n",
    "    \n",
    "    categorical = ['PU_DO']\n",
    "    numerical = ['trip_distance']\n",
    "    dicts = df[categorical + numerical].to_dict(orient='records')\n",
    "    return dicts"
   ]
  },
  {
   "cell_type": "code",
   "execution_count": 5,
   "id": "6b5f0d80",
   "metadata": {},
   "outputs": [],
   "source": [
    "def apply_model(input_file, model_version, output_)\n",
    "\n",
    "\n",
    "\n",
    "df = read_dataframe('data/green_tripdata_2021-01.parquet')\n",
    "dicts = prepare_dictionaries(df)\n",
    "\n",
    "model = mlflow.pyfunc.load_model(logged_model)\n",
    "y_pred = model.predict(dicts)"
   ]
  },
  {
   "cell_type": "code",
   "execution_count": null,
   "id": "200ac5ee",
   "metadata": {},
   "outputs": [],
   "source": [
    "df['ride_id'] = generate_uuids(len(df))"
   ]
  },
  {
   "cell_type": "code",
   "execution_count": null,
   "id": "5e5d2e5c",
   "metadata": {},
   "outputs": [],
   "source": [
    "df_result  = pd.DataFrame()"
   ]
  },
  {
   "cell_type": "code",
   "execution_count": null,
   "id": "3f692aa0",
   "metadata": {},
   "outputs": [],
   "source": [
    "df_result['ride_id'] = df['ride_id']\n",
    "df_result['lpep_pickup_datetime'] = df['lpep_pickup_datetime']\n",
    "df_result['PULocationID'] = df['PULocationID']\n",
    "df_result['DOLocationID'] = df['DOLocationID']\n",
    "df_result['actual_duration'] = df['duration']\n",
    "df_result['predicted_duration'] = y_pred\n",
    "df_result['diff'] = df_result['actual_duration'] - df_result['predicted_duration']\n",
    "df_result['model_version'] = RUN_ID\n"
   ]
  },
  {
   "cell_type": "code",
   "execution_count": null,
   "id": "1d29f5d1",
   "metadata": {},
   "outputs": [],
   "source": [
    "df_result"
   ]
  },
  {
   "cell_type": "code",
   "execution_count": null,
   "id": "27b6a65a",
   "metadata": {},
   "outputs": [],
   "source": [
    "!mkdir output"
   ]
  },
  {
   "cell_type": "code",
   "execution_count": null,
   "id": "69a6f13a",
   "metadata": {},
   "outputs": [],
   "source": [
    "df_result.to_parquet(output_file)"
   ]
  },
  {
   "cell_type": "code",
   "execution_count": null,
   "id": "0a853eb1",
   "metadata": {},
   "outputs": [],
   "source": []
  },
  {
   "cell_type": "code",
   "execution_count": null,
   "id": "aaaeec1a",
   "metadata": {},
   "outputs": [],
   "source": []
  }
 ],
 "metadata": {
  "kernelspec": {
   "display_name": "Python 3 (ipykernel)",
   "language": "python",
   "name": "python3"
  },
  "language_info": {
   "codemirror_mode": {
    "name": "ipython",
    "version": 3
   },
   "file_extension": ".py",
   "mimetype": "text/x-python",
   "name": "python",
   "nbconvert_exporter": "python",
   "pygments_lexer": "ipython3",
   "version": "3.10.9"
  }
 },
 "nbformat": 4,
 "nbformat_minor": 5
}
