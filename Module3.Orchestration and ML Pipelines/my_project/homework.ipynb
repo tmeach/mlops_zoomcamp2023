{
 "cells": [
  {
   "attachments": {},
   "cell_type": "markdown",
   "id": "ab4f58fd",
   "metadata": {},
   "source": [
    "# Homework\n",
    "The goal of this homework is to familiarize users with workflow orchestration.\n",
    "\n",
    "Start with the orchestrate.py file in the 03-orchestration/3.4 folder of the course repo: https://github.com/DataTalksClub/mlops-zoomcamp/blob/main/03-orchestration/3.4/orchestrate.py"
   ]
  },
  {
   "attachments": {},
   "cell_type": "markdown",
   "id": "3fd1438a",
   "metadata": {},
   "source": [
    "# Q1. Human-readable name\n",
    "You’d like to give the first task, read_data a nicely formatted name. How can you specify a task name?\n",
    "\n",
    "Hint: look in the docs at https://docs.prefect.io or check out the doc string in a code editor.\n",
    "\n",
    "- @task(retries=3, retry_delay_seconds=2, name=\"Read taxi data\")\n",
    "- @task(retries=3, retry_delay_seconds=2, task_name=\"Read taxi data\")\n",
    "- @task(retries=3, retry_delay_seconds=2, task-name=\"Read taxi data\")\n",
    "- @task(retries=3, retry_delay_seconds=2, task_name_function=lambda x: f\"Read taxi data\")"
   ]
  },
  {
   "attachments": {},
   "cell_type": "markdown",
   "id": "e30eaf5a",
   "metadata": {},
   "source": [
    "# Answer:\n",
    "- @task(retries=3, retry_delay_seconds=2, name=\"Read taxi data\")"
   ]
  },
  {
   "attachments": {},
   "cell_type": "markdown",
   "id": "8439b0d5",
   "metadata": {},
   "source": [
    "# Q2. Cron\n",
    "Cron is a common scheduling specification for workflows.\n",
    "\n",
    "Using the flow in orchestrate.py, create a deployment. Schedule your deployment to run on the third day of every month at 9am UTC. What’s the cron schedule for that?\n",
    "\n",
    "- 0 9 3 * *\n",
    "- 0 0 9 3 *\n",
    "- 9 * 3 0 *\n",
    "- _* * 9 3 0"
   ]
  },
  {
   "attachments": {},
   "cell_type": "markdown",
   "id": "245143a9",
   "metadata": {},
   "source": [
    "# Answer:\n",
    "- 0 9 3 * * : \"deployment to run on the third day of every month at 9am UTC\" "
   ]
  },
  {
   "attachments": {},
   "cell_type": "markdown",
   "id": "e8afefdc",
   "metadata": {},
   "source": [
    "# Q3. RMSE\n",
    "Download the January 2023 Green Taxi data and use it for your training data. Download the February 2023 Green Taxi data and use it for your validation data.\n",
    "\n",
    "Make sure you upload the data to GitHub so it is available for your deployment.\n",
    "\n",
    "Create a custom flow run of your deployment from the UI. Choose Custom Run for the flow and enter the file path as a string on the JSON tab under Parameters.\n",
    "\n",
    "Make sure you have a worker running and polling the correct work pool.\n",
    "\n",
    "View the results in the UI.\n",
    "\n",
    "What’s the final RMSE to five decimal places?\n",
    "\n",
    "- 6.67433\n",
    "- 5.19931\n",
    "- 8.89443\n",
    "- 9.12250"
   ]
  },
  {
   "attachments": {},
   "cell_type": "markdown",
   "id": "7d2ca22c",
   "metadata": {},
   "source": [
    "# Q4. RMSE (Markdown Artifact)\n",
    "Download the February 2023 Green Taxi data and use it for your training data. Download the March 2023 Green Taxi data and use it for your validation data.\n",
    "\n",
    "Create a Prefect Markdown artifact that displays the RMSE for the validation data. Create a deployment and run it.\n",
    "\n",
    "What’s the RMSE in the artifact to two decimal places ?\n",
    "\n",
    "- 9.71\n",
    "- 12.02\n",
    "- 15.33\n",
    "- 5.37"
   ]
  },
  {
   "attachments": {},
   "cell_type": "markdown",
   "id": "55ddcad9",
   "metadata": {},
   "source": [
    "# Q5. Emails\n",
    "It’s often helpful to be notified when something with your dataflow doesn’t work as planned. Create an email notification for to use with your own Prefect server instance. In your virtual environment, install the prefect-email integration with\n",
    "\n",
    "* pip install prefect-email\n",
    "\n",
    "Make sure you are connected to a running Prefect server instance through your Prefect profile. See the docs if needed: https://docs.prefect.io/latest/concepts/settings/#configuration-profiles\n",
    "\n",
    "Register the new block with your server with\n",
    "\n",
    "* prefect block register -m prefect_email\n",
    "\n",
    "Remember that a block is a Prefect class with a nice UI form interface. Block objects live on the server and can be created and accessed in your Python code.\n",
    "\n",
    "See the docs for how to authenticate by saving your email credentials to a block and note that you will need an App Password to send emails with Gmail and other services. Follow the instructions in the docs.\n",
    "\n",
    "Create and save an EmailServerCredentials notification block. Use the credentials block to send an email.\n",
    "\n",
    "Test the notification functionality by running a deployment.\n",
    "\n",
    "What is the name of the pre-built prefect-email task function?\n",
    "\n",
    "- send_email_message\n",
    "- email_send_message\n",
    "- send_email\n",
    "- send_message"
   ]
  },
  {
   "attachments": {},
   "cell_type": "markdown",
   "id": "91d7448f",
   "metadata": {},
   "source": [
    "# Q6. Prefect Cloud\n",
    "\n",
    "The hosted Prefect Cloud lets you avoid running your own Prefect server and has automations that allow you to get notifications when certain events occur or don’t occur.\n",
    "\n",
    "Create a free forever Prefect Cloud account at app.prefect.cloud and connect your workspace to it following the steps in the UI when you sign up.\n",
    "\n",
    "Set up an Automation from the UI that will send yourself an email when a flow run completes. Run one of your existing deployments and check your email to see the notification.\n",
    "\n",
    "Make sure your active profile is pointing toward Prefect Cloud and make sure you have a worker active.\n",
    "\n",
    "What is the name of the second step in the Automation creation process?\n",
    "\n",
    "- Details\n",
    "- Trigger\n",
    "- Actions\n",
    "- The end"
   ]
  }
 ],
 "metadata": {
  "kernelspec": {
   "display_name": "Python 3 (ipykernel)",
   "language": "python",
   "name": "python3"
  },
  "language_info": {
   "codemirror_mode": {
    "name": "ipython",
    "version": 3
   },
   "file_extension": ".py",
   "mimetype": "text/x-python",
   "name": "python",
   "nbconvert_exporter": "python",
   "pygments_lexer": "ipython3",
   "version": "3.9.13"
  }
 },
 "nbformat": 4,
 "nbformat_minor": 5
}
